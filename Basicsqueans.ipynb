{
 "cells": [
  {
   "cell_type": "code",
   "execution_count": 1,
   "metadata": {},
   "outputs": [
    {
     "name": "stdout",
     "output_type": "stream",
     "text": [
      "Sum of 20 and 30 is 50\n"
     ]
    }
   ],
   "source": [
    "#Basics que\n",
    "# 1.Python program to add two numbers\n",
    "x = 20 \n",
    "y = 30\n",
    "z = x+y\n",
    "print(\"Sum of {0} and {1} is {2}\" .format(x, y, z)) "
   ]
  },
  {
   "cell_type": "code",
   "execution_count": 2,
   "metadata": {},
   "outputs": [
    {
     "name": "stdout",
     "output_type": "stream",
     "text": [
      "The factorial of 7 is 5040\n"
     ]
    }
   ],
   "source": [
    "#2.Python Program for factorial of a number\n",
    "num = 7\n",
    "factorial = 1\n",
    "if num < 0:\n",
    "    print(\"Sorry, factorial does not exist for negative numbers\")\n",
    "elif num == 0:\n",
    "    print(\"The factorial of 0 is 1\")\n",
    "else:\n",
    "    for i in range(1,num + 1):\n",
    "        factorial = factorial*i\n",
    "    print(\"The factorial of\",num,\"is\",factorial)\n",
    "    \n",
    "\n",
    "    "
   ]
  },
  {
   "cell_type": "code",
   "execution_count": 3,
   "metadata": {},
   "outputs": [
    {
     "data": {
      "text/plain": [
       "2500.0"
      ]
     },
     "execution_count": 3,
     "metadata": {},
     "output_type": "execute_result"
    }
   ],
   "source": [
    "#Simple interest formula is given by:\n",
    "#Simple Interest = (P x T x R)/100\n",
    "#Where,\n",
    "#P is the principle amount\n",
    "#T is the time and\n",
    "#R is the rate\n",
    "#P = 10000,R = 5,T = 5\n",
    "p = 10000\n",
    "r = 5\n",
    "t = 5\n",
    "si = (p*t*r)/100\n",
    "si      \n",
    "        "
   ]
  },
  {
   "cell_type": "code",
   "execution_count": 4,
   "metadata": {},
   "outputs": [
    {
     "name": "stdout",
     "output_type": "stream",
     "text": [
      "1634 is an Armstrong number\n",
      "1634\n"
     ]
    }
   ],
   "source": [
    "num = 1634\n",
    "order = len(str(num))\n",
    "sum = 0\n",
    "temp = num\n",
    "while temp > 0:\n",
    "    digit = temp % 10\n",
    "    sum += digit ** order\n",
    "    temp //= 10\n",
    "if num == sum:\n",
    "    print(num,\"is an Armstrong number\")\n",
    "else:\n",
    "    print(num,\"is not an Armstrong number\")    \n",
    "print (sum)\n"
   ]
  },
  {
   "cell_type": "code",
   "execution_count": 5,
   "metadata": {},
   "outputs": [
    {
     "data": {
      "text/plain": [
       "12"
      ]
     },
     "execution_count": 5,
     "metadata": {},
     "output_type": "execute_result"
    }
   ],
   "source": [
    "x =  125\n",
    "y= 10\n",
    "z = (x // y)#Floor division - division that results into whole number adjusted to the left in the number line\n",
    "z"
   ]
  },
  {
   "cell_type": "code",
   "execution_count": 6,
   "metadata": {},
   "outputs": [
    {
     "name": "stdout",
     "output_type": "stream",
     "text": [
      "area of circle :  78.5\n"
     ]
    }
   ],
   "source": [
    "#Python Program for Program to find area of a circle\n",
    "#x = int(input(\"Enter the radius = \"))\n",
    "r = 5\n",
    "if r>=0:\n",
    "     y = (3.14*r**2)\n",
    "print (\"area of circle : \", y)\n"
   ]
  },
  {
   "cell_type": "code",
   "execution_count": 7,
   "metadata": {},
   "outputs": [
    {
     "name": "stdout",
     "output_type": "stream",
     "text": [
      "11\n",
      "13\n",
      "17\n",
      "19\n",
      "23\n"
     ]
    }
   ],
   "source": [
    "#Python program to print all Prime numbers in an Interval\n",
    "#a number that is divisible only by itself and 1 (e.g. 2, 3, 5, 7, 11).\n",
    "start = 11\n",
    "end = 25\n",
    "for val in range(start, end + 1): \n",
    "    if val > 1: \n",
    "        for n in range(2, val): \n",
    "            if (val % n) == 0: \n",
    "                break\n",
    "        else: \n",
    "            print(val) \n",
    "    \n"
   ]
  },
  {
   "cell_type": "code",
   "execution_count": 8,
   "metadata": {},
   "outputs": [
    {
     "name": "stdout",
     "output_type": "stream",
     "text": [
      "Enter the first number of the series 9\n",
      "Enter the second number of the series 8\n",
      "Enter the number of terms needed 8\n",
      "9 8 17 25 42 67 109 176 "
     ]
    }
   ],
   "source": [
    "a=int(input(\"Enter the first number of the series \"))#fibonacci series\n",
    "b=int(input(\"Enter the second number of the series \"))\n",
    "n=int(input(\"Enter the number of terms needed \"))\n",
    "print(a,b,end=\" \")\n",
    "while(n-2):\n",
    "    c=a+b\n",
    "    a=b\n",
    "    b=c\n",
    "    print(c,end=\" \")\n",
    "    n=n-1"
   ]
  },
  {
   "cell_type": "code",
   "execution_count": 9,
   "metadata": {},
   "outputs": [
    {
     "name": "stdout",
     "output_type": "stream",
     "text": [
      "The ASCII value of 'g' is 103\n"
     ]
    }
   ],
   "source": [
    "c = 'g'\n",
    "print(\"The ASCII value of '\" + c + \"' is\", ord(c)) "
   ]
  },
  {
   "cell_type": "code",
   "execution_count": null,
   "metadata": {},
   "outputs": [
    {
     "name": "stdout",
     "output_type": "stream",
     "text": [
      "1\n",
      "5\n",
      "14\n",
      "30\n"
     ]
    }
   ],
   "source": [
    "n = 4\n",
    "sm = 0\n",
    "for i in range(1, n+1) : \n",
    "    sm = sm + (i * i) \n",
    "    print(sm)     \n",
    "  \n",
    "\n",
    " \n",
    "\n",
    "  "
   ]
  },
  {
   "cell_type": "code",
   "execution_count": null,
   "metadata": {},
   "outputs": [
    {
     "name": "stdout",
     "output_type": "stream",
     "text": [
      "1\n",
      "9\n",
      "36\n",
      "100\n",
      "225\n"
     ]
    }
   ],
   "source": [
    "n = 5\n",
    "sm = 0\n",
    "for i in range(1, n+1) : \n",
    "    sm = sm + (i*i*i) \n",
    "    print(sm)   "
   ]
  },
  {
   "cell_type": "code",
   "execution_count": null,
   "metadata": {},
   "outputs": [
    {
     "name": "stdout",
     "output_type": "stream",
     "text": [
      "hello world\n"
     ]
    }
   ],
   "source": [
    "print(\"hello world\")\n"
   ]
  },
  {
   "cell_type": "code",
   "execution_count": null,
   "metadata": {},
   "outputs": [],
   "source": [
    "# Python Calendar Example\n",
    "\n",
    "# import calendar module\n",
    "import calendar\n",
    "\n",
    "# ask of month and year\n",
    "year = int(input(\"Please Enter the year Number: \")) \n",
    "month = int(input(\"Please Enter the month Number: \"))\n",
    "\n",
    "# Displaying the Python calendar\n",
    "print(calendar.month(year, month))"
   ]
  },
  {
   "cell_type": "code",
   "execution_count": null,
   "metadata": {},
   "outputs": [],
   "source": [
    "# cube of any number\n",
    "number = float(input(\" Please Enter any numeric Value : \"))\n",
    "\n",
    "cube = number * number * number\n",
    "\n",
    "print(\"The Cube of a Given Number {0}  = {1}\".format(number, cube))"
   ]
  },
  {
   "cell_type": "code",
   "execution_count": null,
   "metadata": {},
   "outputs": [],
   "source": [
    "# largest of two number \n",
    "a = float(input(\" Please Enter the First Value a: \"))\n",
    "b = float(input(\" Please Enter the Second Value b: \"))\n",
    "\n",
    "if(a > b):\n",
    "    print(\"{0} is Greater than {1}\".format(a, b))\n",
    "elif(b > a):\n",
    "    print(\"{0} is Greater than {1}\".format(b, a))\n",
    "else:\n",
    "    print(\"Both a and b are Equal\")"
   ]
  },
  {
   "cell_type": "code",
   "execution_count": null,
   "metadata": {},
   "outputs": [],
   "source": [
    "# Python Program to find Largest of Three Numbers using Elif Statement\n",
    "\n",
    "a = float(input(\"Please Enter the First value: \"))\n",
    "b = float(input(\"Please Enter the First value: \"))\n",
    "c = float(input(\"Please Enter the First value: \"))\n",
    "\n",
    "if (a > b and a > c):\n",
    "          print(\"{0} is Greater Than both {1} and {2}\". format(a, b, c))\n",
    "elif (b > a and b > c):\n",
    "          print(\"{0} is Greater Than both {1} and {2}\". format(b, a, c))\n",
    "elif (c > a and c > b):\n",
    "          print(\"{0} is Greater Than both {1} and {2}\". format(c, a, b))\n",
    "else:\n",
    "          print(\"Either any two values or all the three values are equal\")"
   ]
  },
  {
   "cell_type": "code",
   "execution_count": null,
   "metadata": {},
   "outputs": [],
   "source": [
    "# Python Program to Print Natural Numbers from 1 to N\n",
    " \n",
    "number = int(input(\"Please Enter any Number: \"))\n",
    "\n",
    "print(\"The List of Natural Numbers from 1 to {0} are\".format(number)) \n",
    "\n",
    "for i in range(1, number + 1):\n",
    "    print (i, end = '  ')\n"
   ]
  },
  {
   "cell_type": "code",
   "execution_count": null,
   "metadata": {},
   "outputs": [],
   "source": [
    "# Python Program to Print Natural Numbers in Reverse Order\n",
    " \n",
    "number = int(input(\"Please Enter any Number: \"))\n",
    "i = number\n",
    "\n",
    "print(\"List of Natural Numbers from {0} to 1 in Reverse Order : \".format(number)) \n",
    "\n",
    "while ( i >= 1):\n",
    "    print (i, end = '  ')\n",
    "    i = i - 1"
   ]
  },
  {
   "cell_type": "code",
   "execution_count": null,
   "metadata": {},
   "outputs": [],
   "source": [
    "# Python Program to find Sum and Average of N Natural Numbers\n",
    " \n",
    "number = int(input(\"Please Enter any Number: \"))\n",
    "total = 0\n",
    "\n",
    "for value in range(1, number + 1):\n",
    "    total = total + value\n",
    "\n",
    "average = total / number\n",
    "\n",
    "print(\"The Sum of Natural Numbers from 1 to {0} =  {1}\".format(number, total))\n",
    "print(\"Average of Natural Numbers from 1 to {0} =  {1}\".format(number, average))"
   ]
  },
  {
   "cell_type": "code",
   "execution_count": null,
   "metadata": {},
   "outputs": [],
   "source": [
    "# Python Program to Check Leap Year using If Statement\n",
    "\n",
    "year = int(input(\"Please Enter the Year Number you wish: \"))\n",
    "\n",
    "if (( year%400 == 0)or (( year%4 == 0 ) and ( year%100 != 0))):\n",
    "    print(\"%d is a Leap Year\" %year)\n",
    "else:\n",
    "    print(\"%d is Not the Leap Year\" %year)"
   ]
  },
  {
   "cell_type": "code",
   "execution_count": null,
   "metadata": {},
   "outputs": [],
   "source": [
    "num = int(input(\"please enter any number \"))\n",
    "\n",
    "if ((num % 2 == 0)):\n",
    "    print(\"%d is a  even no\"%num)\n",
    "elif ((num % 2!=0)):\n",
    "    print(\"%d is a odd no\"%num)\n",
    "    "
   ]
  },
  {
   "cell_type": "code",
   "execution_count": null,
   "metadata": {},
   "outputs": [],
   "source": [
    "num = int(input(\"please enter any number \"))\n",
    "\n",
    "for i in range (1,num+1):\n",
    "     if ((i % 2 == 0)):\n",
    "        print(\"{0}\".format(i))\n",
    "    "
   ]
  },
  {
   "cell_type": "code",
   "execution_count": null,
   "metadata": {},
   "outputs": [],
   "source": [
    "num = int(input(\"please enter any number \"))\n",
    "\n",
    "for i in range (1,num+1):\n",
    "     if ((i % 2 != 0)):\n",
    "        print(\"{0}\".format(i))\n",
    "    "
   ]
  },
  {
   "cell_type": "code",
   "execution_count": null,
   "metadata": {},
   "outputs": [],
   "source": [
    "# Python Program to check Number is Positive or Negative\n",
    "\n",
    "number = float(input(\" Please Enter any Numeric Value : \"))\n",
    "\n",
    "if(number > 0):\n",
    "    print(\"{0} is a Positive Number\".format(number))\n",
    "elif(number < 0):\n",
    "    print(\"{0} is a Negative Number\".format(number))\n",
    "else:\n",
    "    print(\"You have entered Zero\")"
   ]
  },
  {
   "cell_type": "code",
   "execution_count": null,
   "metadata": {},
   "outputs": [],
   "source": [
    "#profit and loss \n",
    "cp = int(input(\"Enter the cost price :\"))\n",
    "sp = int(input(\"Enter the selling price \"))\n",
    "profit = (cp - sp)\n",
    "loss = (sp - cp)\n",
    "\n",
    "if (cp>sp):\n",
    "    print(profit,\"is rs profit\")\n",
    "elif(sp>cp):\n",
    "    print(loss,\"is rs loss\")\n",
    "else:\n",
    "    print(\"no profit no loss\")\n"
   ]
  },
  {
   "cell_type": "code",
   "execution_count": null,
   "metadata": {},
   "outputs": [],
   "source": [
    "# Python Program to Check Number is Divisible by 5 and 11\n",
    "\n",
    "number = int(input(\" Please Enter any Positive Integer : \"))\n",
    "\n",
    "if((number % 5 == 0) and (number % 11 == 0)):\n",
    "    print(\"Given Number {0} is Divisible by 5 and 11\".format(number))\n",
    "else:\n",
    "    print(\"Given Number {0} is Not Divisible by 5 and 11\".format(number))\n"
   ]
  },
  {
   "cell_type": "code",
   "execution_count": null,
   "metadata": {},
   "outputs": [],
   "source": [
    "# Python Program to find Power of a Number\n",
    "\n",
    "number = int(input(\" Please Enter any Positive Integer : \"))\n",
    "exponent = int(input(\" Please Enter Exponent Value : \"))\n",
    "power = 1\n",
    "\n",
    "for i in range(1, exponent + 1):\n",
    "    power = power * number\n",
    "    \n",
    "print(\"The Result of {0} Power {1} = {2}\".format(number, exponent, power))"
   ]
  },
  {
   "cell_type": "code",
   "execution_count": null,
   "metadata": {},
   "outputs": [],
   "source": [
    "#Multiplication Table\n",
    "x = int(input(\" Please Enter any Positive Integer : \"))\n",
    "for i in range (1,11):\n",
    "    y = (x*i)\n",
    "    print('{0}  *  {1}  =  {2}'.format(i, x, i*x))\n",
    "    \n"
   ]
  },
  {
   "cell_type": "code",
   "execution_count": null,
   "metadata": {},
   "outputs": [],
   "source": [
    "# Python Program to Print Multiplication Table\n",
    "\n",
    "print(\" Multiplication Table \")\n",
    "\n",
    "for i in range(8, 10):\n",
    "    for j in range(1, 11):\n",
    "        print('{0}  *  {1}  =  {2}'.format(i, j, i*j))\n",
    "    print('==============')"
   ]
  },
  {
   "cell_type": "code",
   "execution_count": null,
   "metadata": {},
   "outputs": [],
   "source": [
    "# Python Program to find Sum of N Natural Numbers\n",
    " \n",
    "number = int(input(\"Please Enter any Number: \"))\n",
    "total = 0\n",
    "\n",
    "for value in range(1, number + 1):\n",
    "    total = total + value\n",
    "\n",
    "print(\"The Sum of Natural Numbers from 1 to {0} =  {1}\".format(number, total))\n"
   ]
  },
  {
   "cell_type": "code",
   "execution_count": null,
   "metadata": {},
   "outputs": [],
   "source": [
    "number = int(input(\"Please Enter any Number: \"))\n",
    "total = 0\n",
    "\n",
    "for value in range(1, number + 1):\n",
    "    total = total + value\n",
    "   \n",
    " \n",
    "avg = (total/number) \n",
    "    \n",
    "print(\"The Sum of Natural Numbers from 1 to {0} =  {1}\".format(number, total))\n",
    "print(\"The average of Natural Numbers from 1 to {0} =  {1}\".format(number, avg))"
   ]
  },
  {
   "cell_type": "code",
   "execution_count": null,
   "metadata": {},
   "outputs": [],
   "source": [
    "# Python Program to Calculate Sum of Even Numbers from 1 to N\n",
    " \n",
    "maximum = int(input(\" Please Enter the Maximum Value : \"))\n",
    "total = 0\n",
    "\n",
    "for number in range(1, maximum+1):\n",
    "    if(number % 2 == 0):\n",
    "        print(\"{0}\".format(number))\n",
    "        total = total + number\n",
    "\n",
    "print(\"The Sum of Even Numbers from 1 to {0} = {1}\".format(number, total))"
   ]
  },
  {
   "cell_type": "code",
   "execution_count": null,
   "metadata": {},
   "outputs": [],
   "source": [
    "# Python Program to Calculate Sum of Odd Numbers from 1 to N\n",
    " \n",
    "maximum = int(input(\" Please Enter the Maximum Value : \"))\n",
    "Oddtotal = 0\n",
    "\n",
    "for number in range(1, maximum+1):\n",
    "    if(number % 2 != 0):\n",
    "        print(\"{0}\".format(number))\n",
    "        Oddtotal = Oddtotal + number\n",
    "\n",
    "print(\"The Sum of Odd Numbers from 1 to {0} = {1}\".format(number, Oddtotal)) "
   ]
  },
  {
   "cell_type": "code",
   "execution_count": null,
   "metadata": {},
   "outputs": [],
   "source": [
    "# Python Program to find Sum of Even and Odd Numbers from 1 to N\n",
    " \n",
    "maximum = int(input(\" Please Enter the Maximum Value : \"))\n",
    "even_total = 0\n",
    "odd_total = 0\n",
    " \n",
    "for number in range(1, maximum + 1):\n",
    "    if(number % 2 == 0):\n",
    "        even_total = even_total + number\n",
    "    else:\n",
    "        odd_total = odd_total + number\n",
    " \n",
    "print(\"The Sum of Even Numbers from 1 to {0} = {1}\".format(number, even_total))\n",
    "print(\"The Sum of Odd Numbers from 1 to {0} = {1}\".format(number, odd_total))"
   ]
  },
  {
   "cell_type": "code",
   "execution_count": null,
   "metadata": {},
   "outputs": [],
   "source": [
    "# Python Program For Armstrong Number using While Loop\n",
    "\n",
    "Number = int(input(\"\\nPlease Enter the Number to Check for Armstrong: \"))\n",
    "\n",
    "# Initializing Sum and Number of Digits\n",
    "Sum = 0\n",
    "Times = 0\n",
    "           \n",
    "# Calculating Number of individual digits\n",
    "Temp = Number\n",
    "while Temp > 0:\n",
    "           Times = Times + 1\n",
    "           Temp = Temp // 10\n",
    "\n",
    "# Finding Armstrong Number\n",
    "Temp = Number\n",
    "while Temp > 0:\n",
    "           Reminder = Temp % 10\n",
    "           Sum = Sum + (Reminder ** Times)\n",
    "           Temp //= 10\n",
    "if Number == Sum:\n",
    "           print(\"\\n %d is Armstrong Number.\\n\" %Number)\n",
    "else:\n",
    "           print(\"\\n %d is Not a Armstrong Number.\\n\" %Number)"
   ]
  },
  {
   "cell_type": "code",
   "execution_count": null,
   "metadata": {},
   "outputs": [],
   "source": [
    "# Python Program to Count Number of Digits in a Number using While loop\n",
    "\n",
    "Number = int(input(\"Please Enter any Number: \"))\n",
    "Count = 0\n",
    "while(Number > 0):\n",
    "    Number = Number // 10\n",
    "    Count = Count + 1\n",
    "\n",
    "print(\"\\n Number of Digits in a Given Number = %d\" %Count)"
   ]
  },
  {
   "cell_type": "code",
   "execution_count": null,
   "metadata": {},
   "outputs": [],
   "source": [
    "num = 1634\n",
    "order = len(str(num))\n",
    "sum = 0\n",
    "temp = num\n",
    "while temp > 0:\n",
    "    digit = temp % 10\n",
    "    sum += digit ** order\n",
    "    temp //= 10\n",
    "if num == sum:\n",
    "    print(num,\"is an Armstrong number\")\n",
    "else:\n",
    "    print(num,\"is not an Armstrong number\")    \n",
    "print (sum)\n",
    "     \n"
   ]
  },
  {
   "cell_type": "code",
   "execution_count": null,
   "metadata": {},
   "outputs": [],
   "source": [
    "#fibonacci series\n",
    "num = 10\n",
    "n1 = 0\n",
    "n2 = 1\n",
    "count = 0\n",
    "while count < num:\n",
    "        nth = n1 + n2 \n",
    "        print(n1,end=' , ')\n",
    "        n1 = n2\n",
    "        n2 = nth\n",
    "        count += 1 \n",
    "       \n",
    "        \n",
    "        "
   ]
  },
  {
   "cell_type": "code",
   "execution_count": null,
   "metadata": {},
   "outputs": [],
   "source": [
    "# Python Program to find Factors of a Number\n",
    " \n",
    "number = int(input(\"Please Enter any Number: \"))\n",
    "\n",
    "value = 1\n",
    "print(\"Factors of a Given Number {0} are:\".format(number))\n",
    "\n",
    "while (value <= number):\n",
    "    if(number % value == 0):\n",
    "        print(\"{0}\".format(value))\n",
    "    value = value + 1"
   ]
  },
  {
   "cell_type": "code",
   "execution_count": null,
   "metadata": {},
   "outputs": [],
   "source": [
    "# Python Program to find Factorial of a Number\n",
    "\n",
    "import math \n",
    "\n",
    "number = int(input(\" Please enter any Number to find factorial : \"))\n",
    "\n",
    "fact = math.factorial(number)\n",
    "print(\"The factorial of %d  = %d\" %(number, fact))"
   ]
  },
  {
   "cell_type": "code",
   "execution_count": null,
   "metadata": {},
   "outputs": [],
   "source": [
    "num = 7\n",
    "factorial = 1\n",
    "for i in range(1,num + 1):\n",
    "        factorial = factorial*i\n",
    "print(\"The factorial of\",num,\"is\",factorial)\n",
    "    "
   ]
  },
  {
   "cell_type": "code",
   "execution_count": null,
   "metadata": {},
   "outputs": [],
   "source": [
    "# Python Program to find First Digit of a Number\n",
    "\n",
    "number = int(input(\"Please Enter any Number: \"))\n",
    "\n",
    "first_digit = number\n",
    "\n",
    "while (first_digit >= 10):\n",
    "    first_digit = first_digit // 10\n",
    "\n",
    "print(\"The First Digit from a Given Number {0} = {1}\".format(number, first_digit))"
   ]
  },
  {
   "cell_type": "code",
   "execution_count": null,
   "metadata": {},
   "outputs": [],
   "source": [
    "# Python Program to find Last Digit in a Number\n",
    "\n",
    "number = int(input(\"Please Enter any Number: \"))\n",
    "\n",
    "last_digit = number % 10\n",
    "\n",
    "print(\"The Last Digit in a Given Number %d = %d\" %(number, last_digit))"
   ]
  },
  {
   "cell_type": "code",
   "execution_count": null,
   "metadata": {},
   "outputs": [],
   "source": [
    "# Python Program to find GCD of Two Numbers\n",
    "\n",
    "a = float(input(\" Please Enter the First Value a: \"))\n",
    "b = float(input(\" Please Enter the Second Value b: \"))\n",
    "\n",
    "i = 1\n",
    "while(i <= a and i <= b):\n",
    "    if(a % i == 0 and b % i == 0):\n",
    "        gcd = i\n",
    "    i = i + 1\n",
    "    \n",
    "print(\"\\n HCF of {0} and {1} = {2}\".format(a, b, gcd))"
   ]
  },
  {
   "cell_type": "code",
   "execution_count": null,
   "metadata": {},
   "outputs": [],
   "source": [
    "# Python Program to find LCM of Two Numbers\n",
    "\n",
    "a = float(input(\" Please Enter the First Value a: \"))\n",
    "b = float(input(\" Please Enter the Second Value b: \"))\n",
    "\n",
    "if(a > b):\n",
    "    maximum = a\n",
    "else:\n",
    "    maximum = b\n",
    "\n",
    "while(True):\n",
    "    if(maximum % a == 0 and maximum % b == 0):\n",
    "        print(\"\\n LCM of {0} and {1} = {2}\".format(a, b, maximum))\n",
    "        break;\n",
    "    maximum = maximum + 1"
   ]
  },
  {
   "cell_type": "code",
   "execution_count": null,
   "metadata": {},
   "outputs": [],
   "source": [
    "# Python Program to Print Natural Numbers in Reverse Order\n",
    " \n",
    "number = int(input(\"Please Enter any Number: \"))\n",
    "i = number\n",
    "\n",
    "print(\"List of Natural Numbers from {0} to 1 in Reverse Order : \".format(number)) \n",
    "\n",
    "while ( i >= 1):\n",
    "    print (i, end = '  ')\n",
    "    i = i - 1"
   ]
  },
  {
   "cell_type": "code",
   "execution_count": null,
   "metadata": {},
   "outputs": [],
   "source": [
    "# Python Palindrome Program using While loop\n",
    " \n",
    "number = int(input(\"Please Enter any Number: \"))\n",
    "\n",
    "reverse = 0\n",
    "temp = number\n",
    "\n",
    "while(temp > 0):\n",
    "    Reminder = temp % 10\n",
    "    reverse = (reverse * 10) + Reminder\n",
    "    temp = temp //10\n",
    " \n",
    "print(\"Reverse of a Given number is = %d\" %reverse)\n",
    "\n",
    "if(number == reverse):\n",
    "    print(\"%d is a Palindrome Number\" %number)\n",
    "else:\n",
    "    print(\"%d is not a Palindrome Number\" %number)"
   ]
  },
  {
   "cell_type": "code",
   "execution_count": null,
   "metadata": {},
   "outputs": [],
   "source": [
    "# Python Program to find Perfect Number using For loop\n",
    "\n",
    "Number = int(input(\" Please Enter any Number: \"))\n",
    "Sum = 0\n",
    "for i in range(1, Number):\n",
    "    if(Number % i == 0):\n",
    "        Sum = Sum + i\n",
    "if (Sum == Number):\n",
    "    print(\" %d is a Perfect Number\" %Number)\n",
    "else:\n",
    "    print(\" %d is not a Perfect Number\" %Number)"
   ]
  },
  {
   "cell_type": "code",
   "execution_count": null,
   "metadata": {},
   "outputs": [],
   "source": [
    "# Python Program to find Prime Number\n",
    " \n",
    "Number = int(input(\" Please Enter any Number: \"))\n",
    "count = 0\n",
    "\n",
    "for i in range(2, (Number + 1)):\n",
    "    if(Number % i == 0):\n",
    "        count = count + 1\n",
    "        break\n",
    "\n",
    "if (count == 0 and Number != 1):\n",
    "    print(\" %d is a Prime Number\" %Number)\n",
    "else:\n",
    "    print(\" %d is not a Prime Number\" %Number)"
   ]
  },
  {
   "cell_type": "code",
   "execution_count": null,
   "metadata": {},
   "outputs": [],
   "source": [
    "# Python Program to print Prime Numbers from 1 to 100\n",
    " \n",
    "for Number in range (1, 101):\n",
    "    count = 0\n",
    "    for i in range(2, (Number + 1)):\n",
    "        if(Number % i == 0):\n",
    "            count = count + 1\n",
    "            break\n",
    "\n",
    "    if (count == 0 and Number != 1):\n",
    "        print(\" %d\" %Number, end = '  ')"
   ]
  },
  {
   "cell_type": "code",
   "execution_count": null,
   "metadata": {},
   "outputs": [],
   "source": [
    "# Python Program to print Palindrome numbers from 1 to 100\n",
    " \n",
    "maximum = int(input(\" Please Enter the Maximum Value : \"))\n",
    "\n",
    "print(\"Palindrome Numbers between %d and %d are : \" %(minimum, maximum))\n",
    "for num in range(1, maximum + 1):\n",
    "    temp = num\n",
    "    reverse = 0\n",
    "    \n",
    "    while(temp > 0):\n",
    "        Reminder = temp % 10\n",
    "        reverse = (reverse * 10) + Reminder\n",
    "        temp = temp //10\n",
    "\n",
    "    if(num == reverse):\n",
    "        print(\"%d \" %num, end = '  ')"
   ]
  },
  {
   "cell_type": "code",
   "execution_count": null,
   "metadata": {},
   "outputs": [],
   "source": [
    "ch = 'T'\n",
    "\n",
    "print(\"The ASCII Value of %c = %d\" %(ch, ord(ch)))"
   ]
  },
  {
   "cell_type": "code",
   "execution_count": null,
   "metadata": {},
   "outputs": [],
   "source": []
  },
  {
   "cell_type": "code",
   "execution_count": null,
   "metadata": {},
   "outputs": [],
   "source": []
  }
 ],
 "metadata": {
  "kernelspec": {
   "display_name": "Python 3",
   "language": "python",
   "name": "python3"
  },
  "language_info": {
   "codemirror_mode": {
    "name": "ipython",
    "version": 3
   },
   "file_extension": ".py",
   "mimetype": "text/x-python",
   "name": "python",
   "nbconvert_exporter": "python",
   "pygments_lexer": "ipython3",
   "version": "3.7.1"
  }
 },
 "nbformat": 4,
 "nbformat_minor": 2
}
