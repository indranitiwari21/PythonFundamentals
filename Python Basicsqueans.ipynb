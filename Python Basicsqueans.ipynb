{
 "cells": [
  {
   "cell_type": "code",
   "execution_count": 2,
   "metadata": {},
   "outputs": [
    {
     "name": "stdout",
     "output_type": "stream",
     "text": [
      " 2   3   5   7   11   13   17   19   23   29   31   37   41   43   47   53   59   61   67   71   73   79   83   89   97  "
     ]
    }
   ],
   "source": [
    "# Python Program to print Prime Numbers from 1 to 100\n",
    " \n",
    "for Number in range (1, 101):\n",
    "    count = 0\n",
    "    for i in range(2, (Number//2 + 1)):\n",
    "        if(Number % i == 0):\n",
    "            count = count + 1\n",
    "            break\n",
    "\n",
    "    if (count == 0 and Number != 1):\n",
    "        print(\" %d\" %Number, end = '  ')"
   ]
  },
  {
   "cell_type": "code",
   "execution_count": 3,
   "metadata": {},
   "outputs": [
    {
     "name": "stdout",
     "output_type": "stream",
     "text": [
      " Please Enter any Number: 45\n",
      " 3 is a Prime Factor of a Given Number 45\n",
      " 5 is a Prime Factor of a Given Number 45\n"
     ]
    }
   ],
   "source": [
    "# Python Program to find Prime Factors of a Number\n",
    " \n",
    "Number = int(input(\" Please Enter any Number: \"))\n",
    "\n",
    "for i in range(2, Number + 1):\n",
    "    if(Number % i == 0):\n",
    "        isprime = 1\n",
    "        for j in range(2, (i //2 + 1)):\n",
    "            if(i % j == 0):\n",
    "                isprime = 0\n",
    "                break\n",
    "            \n",
    "        if (isprime == 1):\n",
    "            print(\" %d is a Prime Factor of a Given Number %d\" %(i, Number))"
   ]
  },
  {
   "cell_type": "code",
   "execution_count": 4,
   "metadata": {},
   "outputs": [
    {
     "name": "stdout",
     "output_type": "stream",
     "text": [
      "Please Enter any Number: 23\n",
      "\n",
      " Reverse of entered number is = 32\n"
     ]
    }
   ],
   "source": [
    "# Python Program to Reverse a Number using While loop\n",
    "\n",
    "Number = int(input(\"Please Enter any Number: \"))\n",
    "Reverse = 0\n",
    "while(Number > 0):\n",
    "    Reminder = Number %10\n",
    "    Reverse = (Reverse *10) + Reminder\n",
    "    Number = Number //10\n",
    "\n",
    "print(\"\\n Reverse of entered number is = %d\" %Reverse)"
   ]
  },
  {
   "cell_type": "code",
   "execution_count": 5,
   "metadata": {},
   "outputs": [
    {
     "name": "stdout",
     "output_type": "stream",
     "text": [
      "Please Enter any Number: 5\n",
      "\n",
      " Sum of the digits of Given Number = 5\n"
     ]
    }
   ],
   "source": [
    "# Python Program to find Sum of Digits of a Number using While Loop\n",
    "\n",
    "Number = int(input(\"Please Enter any Number: \"))\n",
    "Sum = 0\n",
    "\n",
    "while(Number > 0):\n",
    "    Reminder = Number % 10\n",
    "    Sum = Sum + Reminder\n",
    "    Number = Number //10\n",
    "\n",
    "print(\"\\n Sum of the digits of Given Number = %d\" %Sum)"
   ]
  },
  {
   "cell_type": "code",
   "execution_count": 6,
   "metadata": {},
   "outputs": [
    {
     "name": "stdout",
     "output_type": "stream",
     "text": [
      " Please Enter the First Value a: 4\n",
      " Please Enter the Second Value b: 5\n",
      "Before Swapping two Number: a = 4.0 and b = 5.0\n",
      "After Swapping two Number: a = 5.0 and b = 4.0\n"
     ]
    }
   ],
   "source": [
    "# Python Program to Swap Two Numbers\n",
    " \n",
    "a = float(input(\" Please Enter the First Value a: \"))\n",
    "b = float(input(\" Please Enter the Second Value b: \"))\n",
    "\n",
    "print(\"Before Swapping two Number: a = {0} and b = {1}\".format(a, b))\n",
    "\n",
    "temp = a\n",
    "a = b\n",
    "b = temp\n",
    "\n",
    "print(\"After Swapping two Number: a = {0} and b = {1}\".format(a, b))"
   ]
  },
  {
   "cell_type": "code",
   "execution_count": 7,
   "metadata": {},
   "outputs": [
    {
     "name": "stdout",
     "output_type": "stream",
     "text": [
      "Please Enter Your Own Character : a\n",
      "The Given Character  a is an Alphabet\n"
     ]
    }
   ],
   "source": [
    "# Python Program to check character is Alphabet or not\n",
    "ch = input(\"Please Enter Your Own Character : \")\n",
    "\n",
    "if((ch >= 'a' and ch <= 'z') or (ch >= 'A' and ch <= 'Z')):\n",
    "    print(\"The Given Character \", ch, \"is an Alphabet\")\n",
    "else:\n",
    "    print(\"The Given Character \", ch, \"is Not an Alphabet\")"
   ]
  },
  {
   "cell_type": "code",
   "execution_count": 8,
   "metadata": {},
   "outputs": [
    {
     "name": "stdout",
     "output_type": "stream",
     "text": [
      "Please Enter Your Own Character : b\n",
      "The Given Character  b is an Alphabet\n"
     ]
    }
   ],
   "source": [
    "# Python Program to check character is Alphabet or Digit\n",
    "ch = input(\"Please Enter Your Own Character : \")\n",
    "\n",
    "if((ch >= 'a' and ch <= 'z') or (ch >= 'A' and ch <= 'Z')): \n",
    "    print(\"The Given Character \", ch, \"is an Alphabet\") \n",
    "elif(ch >= '0' and ch <= '9'):\n",
    "    print(\"The Given Character \", ch, \"is a Digit\")\n",
    "else:\n",
    "    print(\"The Given Character \", ch, \"is Not an Alphabet or a Digit\")"
   ]
  },
  {
   "cell_type": "code",
   "execution_count": 9,
   "metadata": {},
   "outputs": [
    {
     "name": "stdout",
     "output_type": "stream",
     "text": [
      "Please Enter Your Own Character : c\n",
      "The Given Character  c is a Lowercase Alphabet\n"
     ]
    }
   ],
   "source": [
    "# Python Program to check character is Lowercase or not\n",
    "ch = input(\"Please Enter Your Own Character : \")\n",
    "\n",
    "if(ch.islower()):\n",
    "    print(\"The Given Character \", ch, \"is a Lowercase Alphabet\")\n",
    "else:\n",
    "    print(\"The Given Character \", ch, \"is Not a Lowercase Alphabet\")"
   ]
  },
  {
   "cell_type": "code",
   "execution_count": 10,
   "metadata": {},
   "outputs": [
    {
     "name": "stdout",
     "output_type": "stream",
     "text": [
      "Please Enter Your Own Character : f\n",
      "The Given Character  f is Not an Uppercase Alphabet\n"
     ]
    }
   ],
   "source": [
    "# Python Program to check character is Uppercase or not\n",
    "ch = input(\"Please Enter Your Own Character : \")\n",
    "\n",
    "if(ch.isupper()):\n",
    "    print(\"The Given Character \", ch, \"is an Uppercase Alphabet\")\n",
    "else:\n",
    "    print(\"The Given Character \", ch, \"is Not an Uppercase Alphabet\")"
   ]
  },
  {
   "cell_type": "code",
   "execution_count": 11,
   "metadata": {},
   "outputs": [
    {
     "name": "stdout",
     "output_type": "stream",
     "text": [
      "Please Enter Your Own Character : y\n",
      "The Given Character  y is a Consonant\n"
     ]
    }
   ],
   "source": [
    "# Python Program to check character is Vowel or Consonant\n",
    "ch = input(\"Please Enter Your Own Character : \")\n",
    "\n",
    "if(ch == 'a' or ch == 'e' or ch == 'i' or ch == 'o' or ch == 'u' or ch == 'A'\n",
    "       or ch == 'E' or ch == 'I' or ch == 'O' or ch == 'U'):\n",
    "    print(\"The Given Character \", ch, \"is a Vowel\")\n",
    "else:\n",
    "    print(\"The Given Character \", ch, \"is a Consonant\")"
   ]
  },
  {
   "cell_type": "code",
   "execution_count": 12,
   "metadata": {},
   "outputs": [
    {
     "name": "stdout",
     "output_type": "stream",
     "text": [
      "sum_1: 150\n"
     ]
    }
   ],
   "source": [
    "def sum_1(arr):\n",
    "    result = 0\n",
    "    for x in arr:\n",
    "        result += x\n",
    "    return result\n",
    "if __name__ == \"__main__\":\n",
    "    arr = [10, 20, 30, 40, 50]\n",
    "    print ('sum_1: {}'.format(sum_1(arr)))\n",
    "   # print ('sum_2: {}'.format(sum_2(arr)))\n",
    "  "
   ]
  },
  {
   "cell_type": "code",
   "execution_count": 13,
   "metadata": {},
   "outputs": [
    {
     "name": "stdout",
     "output_type": "stream",
     "text": [
      "sum_1: 150\n",
      "sum_2: 150\n"
     ]
    }
   ],
   "source": [
    "def sum_2(arr):\n",
    "    result = sum(arr)\n",
    "    return result\n",
    "\n",
    "# main function\n",
    "if __name__ == \"__main__\":\n",
    "    arr = [10, 20, 30, 40, 50]\n",
    "    print ('sum_1: {}'.format(sum_1(arr)))\n",
    "    print ('sum_2: {}'.format(sum_2(arr)))"
   ]
  },
  {
   "cell_type": "code",
   "execution_count": 14,
   "metadata": {},
   "outputs": [
    {
     "name": "stdout",
     "output_type": "stream",
     "text": [
      "Largest element present in given array: 75\n"
     ]
    }
   ],
   "source": [
    "#Initialize array     \n",
    "arr = [25, 11, 7, 75, 56];     \n",
    "     \n",
    "#Initialize max with first element of array.    \n",
    "max = arr[0];    \n",
    "     \n",
    "#Loop through the array    \n",
    "for i in range(0, len(arr)):    \n",
    "    #Compare elements of array with max    \n",
    "   if(arr[i] > max):    \n",
    "       max = arr[i];    \n",
    "           \n",
    "print(\"Largest element present in given array: \" + str(max));  "
   ]
  },
  {
   "cell_type": "code",
   "execution_count": 15,
   "metadata": {},
   "outputs": [
    {
     "name": "stdout",
     "output_type": "stream",
     "text": [
      "Original array: \n",
      "1\n",
      "2\n",
      "3\n",
      "4\n",
      "5\n",
      "\n",
      "Array after right rotation: \n",
      "3\n",
      "4\n",
      "5\n",
      "1\n",
      "2\n"
     ]
    }
   ],
   "source": [
    "#Initialize array     \n",
    "arr = [1, 2, 3, 4, 5];     \n",
    "#n determine the number of times an array should be rotated    \n",
    "n = 3;    \n",
    "     \n",
    "#Displays original array    \n",
    "print(\"Original array: \");    \n",
    "for i in range(0, len(arr)):    \n",
    "    print(arr[i]),     \n",
    "     \n",
    "#Rotate the given array by n times toward right    \n",
    "for i in range(0, n):    \n",
    "    #Stores the last element of array    \n",
    "    last = arr[len(arr)-1];    \n",
    "        \n",
    "    for j in range(len(arr)-1, -1, -1):    \n",
    "        #Shift element of array by one    \n",
    "        arr[j] = arr[j-1];    \n",
    "            \n",
    "    #Last element of the array will be added to the start of the array.    \n",
    "    \n",
    "    arr[0] = last;    \n",
    "     \n",
    "print();    \n",
    "     \n",
    "#Displays resulting array after rotation    \n",
    "print(\"Array after right rotation: \");    \n",
    "for i in range(0, len(arr)):    \n",
    "    print(arr[i]),  \n",
    "\n",
    "\n"
   ]
  },
  {
   "cell_type": "code",
   "execution_count": 16,
   "metadata": {},
   "outputs": [
    {
     "name": "stdout",
     "output_type": "stream",
     "text": [
      "5 6 52 36 12 10 "
     ]
    }
   ],
   "source": [
    "def splitArr(arr, n, k):  \n",
    "    for i in range(0, k):  \n",
    "        x = arr[0] \n",
    "        for j in range(0, n-1): \n",
    "            arr[j] = arr[j + 1] \n",
    "          \n",
    "        arr[n-1] = x \n",
    "          \n",
    "  \n",
    "# main \n",
    "arr = [12, 10, 5, 6, 52, 36] \n",
    "n = len(arr) \n",
    "position = 2\n",
    "  \n",
    "splitArr(arr, n, position) \n",
    "  \n",
    "for i in range(0, n):  \n",
    "    print(arr[i], end = ' ') "
   ]
  },
  {
   "cell_type": "code",
   "execution_count": 17,
   "metadata": {},
   "outputs": [
    {
     "name": "stdout",
     "output_type": "stream",
     "text": [
      "The ASCII Value of T = 84\n"
     ]
    }
   ],
   "source": [
    "ch = 'T'\n",
    "\n",
    "print(\"The ASCII Value of %c = %d\" %(ch, ord(ch)))"
   ]
  },
  {
   "cell_type": "code",
   "execution_count": 18,
   "metadata": {},
   "outputs": [
    {
     "name": "stdout",
     "output_type": "stream",
     "text": [
      "Please Enter your Own String : ghik\n",
      "The ASCII Value of Character g = 103\n",
      "The ASCII Value of Character h = 104\n",
      "The ASCII Value of Character i = 105\n",
      "The ASCII Value of Character k = 107\n"
     ]
    }
   ],
   "source": [
    "# Python program to find ASCII Values of Total Characters in a String\n",
    " \n",
    "str1 = input(\"Please Enter your Own String : \")\n",
    " \n",
    "for i in range(len(str1)):\n",
    "    print(\"The ASCII Value of Character %c = %d\" %(str1[i], ord(str1[i])))"
   ]
  },
  {
   "cell_type": "code",
   "execution_count": 19,
   "metadata": {},
   "outputs": [
    {
     "name": "stdout",
     "output_type": "stream",
     "text": [
      "Please Enter the First  String : re\n",
      "Please Enter the Second String : \n",
      "The Final String After Python String Concatenation =  re\n",
      "The Final After String Concatenation with Space =  re \n"
     ]
    }
   ],
   "source": [
    "# Python Program to Concatenate Strings\n",
    "\n",
    "str1 = input(\"Please Enter the First  String : \")\n",
    "str2 = input(\"Please Enter the Second String : \")\n",
    "\n",
    "concat1 = str1 + str2\n",
    "print(\"The Final String After Python String Concatenation = \", concat1)\n",
    "\n",
    "concat2 = str1 + ' ' + str2\n",
    "print(\"The Final After String Concatenation with Space = \", concat2)"
   ]
  },
  {
   "cell_type": "code",
   "execution_count": 1,
   "metadata": {},
   "outputs": [
    {
     "name": "stdout",
     "output_type": "stream",
     "text": [
      "Please Enter your Own String : neha\n",
      "The Given String in Uppercase =   NEHA\n"
     ]
    }
   ],
   "source": [
    "# Python Program to Convert String to Uppercase\n",
    " \n",
    "string = input(\"Please Enter your Own String : \")\n",
    "\n",
    "string1 = string.upper()\n",
    "print(\"The Given String in Uppercase =  \", string1) \n",
    "#print(\"\\nOriginal String in Lowercase  =  \", string)\n",
    "#print(\"The Given String in Uppercase =  \", string1)"
   ]
  },
  {
   "cell_type": "code",
   "execution_count": 2,
   "metadata": {},
   "outputs": [
    {
     "name": "stdout",
     "output_type": "stream",
     "text": [
      "Please Enter your Own String : NEHA\n",
      "The Given String in Uppercase =   neha\n"
     ]
    }
   ],
   "source": [
    "# Python Program to Convert String to Uppercase\n",
    " \n",
    "string = input(\"Please Enter your Own String : \")\n",
    "\n",
    "string1 = string.lower()\n",
    "print(\"The Given String in Uppercase =  \", string1) \n",
    "#print(\"\\nOriginal String in Lowercase  =  \", string)\n",
    "#print(\"The Given String in Uppercase =  \", string1)"
   ]
  },
  {
   "cell_type": "code",
   "execution_count": 3,
   "metadata": {},
   "outputs": [
    {
     "name": "stdout",
     "output_type": "stream",
     "text": [
      "Please Enter Your Own String : neha\n",
      "The Final String : Str2  =  neha\n",
      "The Final String : Str3  = =  neha\n"
     ]
    }
   ],
   "source": [
    "#copy string\n",
    "# Python Program to Copy a String\n",
    "\n",
    "str1 = input(\"Please Enter Your Own String : \")\n",
    "\n",
    "str2 = str1\n",
    "str3 = str1[:]\n",
    "\n",
    "print(\"The Final String : Str2  = \", str2)\n",
    "print(\"The Final String : Str3  = = \", str3)"
   ]
  },
  {
   "cell_type": "code",
   "execution_count": 2,
   "metadata": {},
   "outputs": [
    {
     "name": "stdout",
     "output_type": "stream",
     "text": [
      "Please enter your own String : hello how are\n",
      "Please enter your own Character : h\n",
      "The total Number of Times  h  has Occurred =  2\n"
     ]
    }
   ],
   "source": [
    "# Python Program to Count Occurrence of a Character in a String\n",
    "\n",
    "string = input(\"Please enter your own String : \")\n",
    "char = input(\"Please enter your own Character : \")\n",
    "\n",
    "count = 0\n",
    "for i in range(len(string)):\n",
    "    if(string[i] == char):\n",
    "        count = count + 1\n",
    "\n",
    "print(\"The total Number of Times \", char, \" has Occurred = \" , count)\n"
   ]
  },
  {
   "cell_type": "code",
   "execution_count": 8,
   "metadata": {},
   "outputs": [
    {
     "name": "stdout",
     "output_type": "stream",
     "text": [
      "Please Enter your Own String : neha\n",
      "Total Number of Characters in this String =  4\n"
     ]
    }
   ],
   "source": [
    "# Python Program to Count Total Characters in a String\n",
    " \n",
    "str1 = input(\"Please Enter your Own String : \")\n",
    "total = 0\n",
    " \n",
    "for i in str1:\n",
    "    total = total + 1\n",
    " \n",
    " \n",
    "print(\"Total Number of Characters in this String = \", total)\n"
   ]
  },
  {
   "cell_type": "code",
   "execution_count": 9,
   "metadata": {},
   "outputs": [
    {
     "name": "stdout",
     "output_type": "stream",
     "text": [
      "Please Enter your Own String : my name is neha\n",
      "Total Number of Words in this String =  4\n"
     ]
    }
   ],
   "source": [
    "# Python program to Count Total Number of Words in a String\n",
    "\n",
    "str1 = input(\"Please Enter your Own String : \")\n",
    "total = 1\n",
    "\n",
    "for i in range(len(str1)):\n",
    "    if(str1[i] == ' ' or str1 == '\\n' or str1 == '\\t'):\n",
    "        total = total + 1\n",
    "\n",
    "print(\"Total Number of Words in this String = \", total)"
   ]
  },
  {
   "cell_type": "code",
   "execution_count": 10,
   "metadata": {},
   "outputs": [
    {
     "name": "stdout",
     "output_type": "stream",
     "text": [
      "Please Enter Your Own String : you are noisy man\n",
      "Total Number of Vowels in this String =  7\n"
     ]
    }
   ],
   "source": [
    "# Python Program to Count Vowels in a String\n",
    "str1 = input(\"Please Enter Your Own String : \")\n",
    "vowels = 0\n",
    " \n",
    "for i in str1:\n",
    "    if(i == 'a' or i == 'e' or i == 'i' or i == 'o' or i == 'u' or i == 'A'\n",
    "       or i == 'E' or i == 'I' or i == 'O' or i == 'U'):\n",
    "        vowels = vowels + 1\n",
    " \n",
    "print(\"Total Number of Vowels in this String = \", vowels)"
   ]
  },
  {
   "cell_type": "code",
   "execution_count": 11,
   "metadata": {},
   "outputs": [
    {
     "name": "stdout",
     "output_type": "stream",
     "text": [
      "Please Enter Your Own String : jfd my hgsgj nhtgdghj\n",
      "Total Number of Vowels in this String =  0\n",
      "Total Number of Consonants in this String =  21\n"
     ]
    }
   ],
   "source": [
    "# Python Program to Count Vowels and Consonants in a String\n",
    "\n",
    "str1 = input(\"Please Enter Your Own String : \")\n",
    "vowels = 0\n",
    "consonants = 0\n",
    "\n",
    "for i in str1:\n",
    "    if(i == 'a' or i == 'e' or i == 'i' or i == 'o' or i == 'u'\n",
    "       or i == 'A' or i == 'E' or i == 'I' or i == 'O' or i == 'U'):\n",
    "        vowels = vowels + 1\n",
    "    else:\n",
    "        consonants = consonants + 1\n",
    " \n",
    "print(\"Total Number of Vowels in this String = \", vowels)\n",
    "print(\"Total Number of Consonants in this String = \", consonants)"
   ]
  },
  {
   "cell_type": "code",
   "execution_count": 12,
   "metadata": {},
   "outputs": [
    {
     "name": "stdout",
     "output_type": "stream",
     "text": [
      "Please Enter your Own String : #\n",
      "\n",
      "Total Number of Alphabets in this String :   0\n",
      "Total Number of Digits in this String :   0\n",
      "Total Number of Special Characters in this String :   1\n"
     ]
    }
   ],
   "source": [
    "# Python program to Count Alphabets Digits and Special Characters in a String\n",
    " \n",
    "string = input(\"Please Enter your Own String : \")\n",
    "alphabets = digits = special = 0\n",
    "\n",
    "for i in range(len(string)):\n",
    "    if(string[i].isalpha()):\n",
    "        alphabets = alphabets + 1\n",
    "    elif(string[i].isdigit()):\n",
    "        digits = digits + 1\n",
    "    else:\n",
    "        special = special + 1\n",
    "        \n",
    "print(\"\\nTotal Number of Alphabets in this String :  \", alphabets)\n",
    "print(\"Total Number of Digits in this String :  \", digits)\n",
    "print(\"Total Number of Special Characters in this String :  \", special)"
   ]
  },
  {
   "cell_type": "code",
   "execution_count": 1,
   "metadata": {},
   "outputs": [
    {
     "name": "stdout",
     "output_type": "stream",
     "text": [
      "Please enter your own String : how are you\n",
      "Please enter your own Character : o\n",
      "The first Occurrence of  o  is Found at Position  2\n"
     ]
    }
   ],
   "source": [
    "# Python Program to check First Occurrence of a Character in a String\n",
    "\n",
    "string = input(\"Please enter your own String : \")\n",
    "char = input(\"Please enter your own Character : \")\n",
    "\n",
    "count = 0\n",
    "for i in range(len(string)):\n",
    "    if(string[i] == char):\n",
    "        count = 1\n",
    "        break\n",
    "\n",
    "if(count == 0):\n",
    "    print(\"Sorry! We haven't found the Search Character in this string \")\n",
    "else:\n",
    "    print(\"The first Occurrence of \", char, \" is Found at Position \" , i + 1)"
   ]
  },
  {
   "cell_type": "code",
   "execution_count": 2,
   "metadata": {},
   "outputs": [
    {
     "name": "stdout",
     "output_type": "stream",
     "text": [
      "Please enter your own String : how are you\n",
      "Please enter your own Character : o\n",
      "The Last Occurrence of  o  is Found at Position  10\n"
     ]
    }
   ],
   "source": [
    "# Python Program to find Last Occurrence of a Character in a String\n",
    "\n",
    "string = input(\"Please enter your own String : \")\n",
    "char = input(\"Please enter your own Character : \")\n",
    "\n",
    "count = 0\n",
    "for i in range(len(string)):\n",
    "    if(string[i] == char):\n",
    "        count = i \n",
    "\n",
    "if(count == 0):\n",
    "    print(\"Sorry! We haven't found the Search Character in this string \")\n",
    "else:\n",
    "    print(\"The Last Occurrence of \", char, \" is Found at Position \" , count + 1)"
   ]
  },
  {
   "cell_type": "code",
   "execution_count": 4,
   "metadata": {},
   "outputs": [
    {
     "name": "stdout",
     "output_type": "stream",
     "text": [
      "Please enter your own String : nan\n",
      "This is a Palindrome String\n"
     ]
    }
   ],
   "source": [
    "# Python Program to Check a Given String is Palindrome or Not\n",
    "\n",
    "string = input(\"Please enter your own String : \")\n",
    "\n",
    "if(string == string[:: - 1]):\n",
    "   print(\"This is a Palindrome String\")\n",
    "else:\n",
    "   print(\"This is Not a Palindrome String\")"
   ]
  },
  {
   "cell_type": "code",
   "execution_count": 5,
   "metadata": {},
   "outputs": [
    {
     "name": "stdout",
     "output_type": "stream",
     "text": [
      "Please Enter your Own String : neha\n",
      "The Character at 0 Index Position = n\n",
      "The Character at 1 Index Position = e\n",
      "The Character at 2 Index Position = h\n",
      "The Character at 3 Index Position = a\n"
     ]
    }
   ],
   "source": [
    "# Python program to Print Characters in a String\n",
    " \n",
    "str1 = input(\"Please Enter your Own String : \")\n",
    " \n",
    "for i in range(len(str1)):\n",
    "    print(\"The Character at %d Index Position = %c\" %(i, str1[i]))"
   ]
  },
  {
   "cell_type": "code",
   "execution_count": 6,
   "metadata": {},
   "outputs": [
    {
     "name": "stdout",
     "output_type": "stream",
     "text": [
      "Please Enter your Own String : hello india\n",
      "Original String :   hello india\n",
      "Modified String :   hello_india\n"
     ]
    }
   ],
   "source": [
    "#Replace Blank Space with Hyphen in a String\n",
    "# Python program to Replace Blank Space with Hyphen in a String\n",
    " \n",
    "str1 = input(\"Please Enter your Own String : \")\n",
    "\n",
    "str2 = str1.replace(' ', '_')\n",
    "\n",
    "print(\"Original String :  \", str1)\n",
    "print(\"Modified String :  \", str2) "
   ]
  },
  {
   "cell_type": "code",
   "execution_count": 2,
   "metadata": {},
   "outputs": [
    {
     "name": "stdout",
     "output_type": "stream",
     "text": [
      "Please Enter your Own String : my name is neha \n",
      "Please Enter your Own Character : n\n",
      "Please Enter the New Character : p\n",
      "\n",
      "Original String :   my name is neha \n",
      "Modified String :   my pame is peha \n"
     ]
    }
   ],
   "source": [
    "# Python program to Replace Characters in a String\n",
    " \n",
    "str1 = input(\"Please Enter your Own String : \")\n",
    "ch = input(\"Please Enter your Own Character : \")\n",
    "newch = input(\"Please Enter the New Character : \")\n",
    "\n",
    "str2 = str1.replace(ch, newch)\n",
    "\n",
    "print(\"\\nOriginal String :  \", str1)\n",
    "print(\"Modified String :  \", str2)\n"
   ]
  },
  {
   "cell_type": "code",
   "execution_count": 6,
   "metadata": {},
   "outputs": [
    {
     "name": "stdout",
     "output_type": "stream",
     "text": [
      "Please Enter your Own String : hello india\n",
      "Original String :   hello india\n",
      "Final String :      hloida\n"
     ]
    }
   ],
   "source": [
    "# Python Program to Remove Odd Index Characters in a String\n",
    " \n",
    "str1 = input(\"Please Enter your Own String : \")\n",
    "\n",
    "str2 = ''\n",
    "\n",
    "for i in range(len(str1)):\n",
    "    if(i % 2 == 0):\n",
    "        str2 = str2 + str1[i]\n",
    "        \n",
    "print(\"Original String :  \", str1)\n",
    "print(\"Final String :     \", str2)"
   ]
  },
  {
   "cell_type": "code",
   "execution_count": 8,
   "metadata": {},
   "outputs": [
    {
     "name": "stdout",
     "output_type": "stream",
     "text": [
      "Please Enter your Own String : hello india\n",
      "Original String :   hello india\n",
      "Final String :      el ni\n"
     ]
    }
   ],
   "source": [
    "str1 = input(\"Please Enter your Own String : \")\n",
    "\n",
    "str2 = ''\n",
    "\n",
    "for i in range(1, len(str1) + 1):\n",
    "    if(i % 2 == 0):\n",
    "        str2 = str2 + str1[i-1]\n",
    "        \n",
    "print(\"Original String :  \", str1)\n",
    "print(\"Final String :     \", str2)"
   ]
  },
  {
   "cell_type": "code",
   "execution_count": 9,
   "metadata": {},
   "outputs": [
    {
     "name": "stdout",
     "output_type": "stream",
     "text": [
      "Please enter your own String : hello india\n",
      "Please enter your own Character : h\n",
      "The first Occurrence of  h  is Found at Position  1\n"
     ]
    }
   ],
   "source": [
    "#Removing First Occurrence of a Character in a String\n",
    "string = input(\"Please enter your own String : \")\n",
    "char = input(\"Please enter your own Character : \")\n",
    "\n",
    "count = 0\n",
    "for i in range(len(string)):\n",
    "    if(string[i] == char):\n",
    "        count = 1\n",
    "        break\n",
    "\n",
    "if(count == 0):\n",
    "    print(\"Sorry! We haven't found the Search Character in this string \")\n",
    "else:\n",
    "    print(\"The first Occurrence of \", char, \" is Found at Position \" , i + 1)"
   ]
  },
  {
   "cell_type": "code",
   "execution_count": 10,
   "metadata": {},
   "outputs": [
    {
     "name": "stdout",
     "output_type": "stream",
     "text": [
      "Please enter your own String : hello india\n",
      "Please enter your own Character : d\n",
      "Original String :   hello india\n",
      "Final String :      hello inia\n"
     ]
    }
   ],
   "source": [
    "# Python Program to Remove First Occurrence of a Character in a String\n",
    " \n",
    "string = input(\"Please enter your own String : \")\n",
    "char = input(\"Please enter your own Character : \")\n",
    "string2 = ''\n",
    "length = len(string)\n",
    "for i in range(length):\n",
    "    if(string[i] == char):\n",
    "        string2 = string[0:i] + string[i + 1:length]\n",
    "        break\n",
    " \n",
    "print(\"Original String :  \", string)\n",
    "print(\"Final String :     \", string2)"
   ]
  },
  {
   "cell_type": "code",
   "execution_count": 11,
   "metadata": {},
   "outputs": [
    {
     "name": "stdout",
     "output_type": "stream",
     "text": [
      "Please enter your own String : hello india\n",
      "Please enter your own Character : i\n",
      "Original String :   hello india\n",
      "Final String :      hello inda\n"
     ]
    }
   ],
   "source": [
    "# Python Program to Remove Last Occurrence of a Character in a String\n",
    " \n",
    "string = input(\"Please enter your own String : \")\n",
    "char = input(\"Please enter your own Character : \")\n",
    "\n",
    "string2 = ''\n",
    "length = len(string)\n",
    "\n",
    "for i in range(length):\n",
    "    if(string[i] == char):\n",
    "        string2 = string[0:i] + string[i + 1:length]\n",
    " \n",
    "print(\"Original String :  \", string)\n",
    "print(\"Final String :     \", string2)"
   ]
  },
  {
   "cell_type": "code",
   "execution_count": 12,
   "metadata": {},
   "outputs": [
    {
     "name": "stdout",
     "output_type": "stream",
     "text": [
      "Please enter your own String : neha\n",
      "\n",
      "The Original String =  neha\n",
      "The Reversed String =  ahen\n"
     ]
    }
   ],
   "source": [
    "# Python Program to Reverse String\n",
    "string = input(\"Please enter your own String : \")\n",
    "\n",
    "string2 = ''\n",
    "\n",
    "for i in string:\n",
    "    string2 = i + string2\n",
    "    \n",
    "print(\"\\nThe Original String = \", string)\n",
    "print(\"The Reversed String = \", string2)\n"
   ]
  },
  {
   "cell_type": "code",
   "execution_count": 13,
   "metadata": {},
   "outputs": [
    {
     "name": "stdout",
     "output_type": "stream",
     "text": [
      "Total length of giving string = 8\n"
     ]
    }
   ],
   "source": [
    "str1 = \"My India\"\n",
    "print(\"Total length of giving string =\",len(str1) )\n"
   ]
  },
  {
   "cell_type": "code",
   "execution_count": 2,
   "metadata": {},
   "outputs": [
    {
     "name": "stdout",
     "output_type": "stream",
     "text": [
      "Please enter your own String : neha\n",
      "Please enter your own Character : n\n",
      "n  is Found at Position  1\n"
     ]
    }
   ],
   "source": [
    "# Python Program to find Occurrence of a Character in a String\n",
    "#string = input(\"Please enter your own String : \")\n",
    "str1 = input(\"Please enter your own String : \")\n",
    "ch = input(\"Please enter your own Character : \")\n",
    "\n",
    "for i in range(len(str1)):\n",
    "    if(str1[i] == ch ):\n",
    "        print(ch, \" is Found at Position \" , i + 1)\n",
    "\n",
    "\n"
   ]
  },
  {
   "cell_type": "code",
   "execution_count": 3,
   "metadata": {},
   "outputs": [
    {
     "name": "stdout",
     "output_type": "stream",
     "text": [
      "Please Enter your Own String : neha\n",
      "\n",
      "Original String                      =   neha\n",
      "The Given String After Toggling Case =   NEHA\n"
     ]
    }
   ],
   "source": [
    "# Python Program to Toggle Characters Case in a String\n",
    " \n",
    "string = input(\"Please Enter your Own String : \")\n",
    "\n",
    "string1 = string.swapcase()\n",
    " \n",
    "print(\"\\nOriginal String                      =  \", string)\n",
    "print(\"The Given String After Toggling Case =  \", string1)"
   ]
  },
  {
   "cell_type": "code",
   "execution_count": 4,
   "metadata": {},
   "outputs": [
    {
     "name": "stdout",
     "output_type": "stream",
     "text": [
      "\n",
      "The total Sum of Two Lists =   [25, 45, 65]\n"
     ]
    }
   ],
   "source": [
    "# Python Program to Add two Lists\n",
    " \n",
    "NumList1 = [10, 20, 30]\n",
    "NumList2 = [15, 25, 35]\n",
    "total = []\n",
    " \n",
    "for j in range(3):\n",
    "    total.append( NumList1[j] + NumList2[j])\n",
    " \n",
    "print(\"\\nThe total Sum of Two Lists =  \", total)"
   ]
  },
  {
   "cell_type": "code",
   "execution_count": 5,
   "metadata": {},
   "outputs": [
    {
     "name": "stdout",
     "output_type": "stream",
     "text": [
      "\n",
      "The List Items after Addition =   [15, 22, 33]\n",
      "The List Items after Subtraction =   [5, 18, 27]\n",
      "The List Items after Multiplication =   [50, 40, 90]\n",
      "The List Items after Division =   [2.0, 10.0, 10.0]\n",
      "The List Items after Modulus =   [0, 0, 0]\n",
      "The List Items after Exponent =   [100000, 400, 27000]\n"
     ]
    }
   ],
   "source": [
    "# Python Program to Perform List Arithmetic Operations\n",
    " \n",
    "NumList1 = [10, 20, 30]\n",
    "NumList2 = [5, 2, 3]\n",
    "add = []\n",
    "sub = []\n",
    "multi = []\n",
    "div = []\n",
    "mod = []\n",
    "expo = []\n",
    " \n",
    "for j in range(3):\n",
    "    add.append( NumList1[j] + NumList2[j])\n",
    "    sub.append( NumList1[j] - NumList2[j])\n",
    "    multi.append( NumList1[j] * NumList2[j])\n",
    "    div.append( NumList1[j] / NumList2[j])\n",
    "    mod.append( NumList1[j] % NumList2[j])\n",
    "    expo.append( NumList1[j] ** NumList2[j])\n",
    " \n",
    "print(\"\\nThe List Items after Addition =  \", add)\n",
    "print(\"The List Items after Subtraction =  \", sub)\n",
    "print(\"The List Items after Multiplication =  \", multi)\n",
    "print(\"The List Items after Division =  \", div)\n",
    "print(\"The List Items after Modulus =  \", mod)\n",
    "print(\"The List Items after Exponent =  \", expo)"
   ]
  },
  {
   "cell_type": "code",
   "execution_count": 7,
   "metadata": {},
   "outputs": [
    {
     "name": "stdout",
     "output_type": "stream",
     "text": [
      "Please enter the Total Number of List Elements: 10\n",
      "Please enter the Value of 1 Element : 20\n",
      "Please enter the Value of 2 Element : 10\n",
      "Please enter the Value of 3 Element : 25\n",
      "Please enter the Value of 4 Element : 15\n",
      "Please enter the Value of 5 Element : 35\n",
      "Please enter the Value of 6 Element : 5\n",
      "Please enter the Value of 7 Element : 20\n",
      "Please enter the Value of 8 Element : 20\n",
      "Please enter the Value of 9 Element : 12\n",
      "Please enter the Value of 10 Element : 23\n",
      "\n",
      "Total Number of Even Numbers in this List =   5\n",
      "Total Number of Odd Numbers in this List =  5\n"
     ]
    }
   ],
   "source": [
    "# Python Program to Count Even and Odd Numbers in a List\n",
    "\n",
    "NumList = []\n",
    "Even_count = 0\n",
    "Odd_count = 0\n",
    "\n",
    "Number = int(input(\"Please enter the Total Number of List Elements: \"))\n",
    "for i in range(1, Number + 1):\n",
    "    value = int(input(\"Please enter the Value of %d Element : \" %i))\n",
    "    NumList.append(value)\n",
    "\n",
    "for j in range(Number):\n",
    "    if(NumList[j] % 2 == 0):\n",
    "        Even_count = Even_count + 1\n",
    "    else:\n",
    "        Odd_count = Odd_count + 1\n",
    "\n",
    "print(\"\\nTotal Number of Even Numbers in this List =  \", Even_count)\n",
    "print(\"Total Number of Odd Numbers in this List = \", Odd_count)"
   ]
  },
  {
   "cell_type": "code",
   "execution_count": 10,
   "metadata": {},
   "outputs": [
    {
     "name": "stdout",
     "output_type": "stream",
     "text": [
      "Please enter the Total Number of List Elements: 3\n",
      "Please enter the Value of 1 Element : -2\n",
      "Please enter the Value of 2 Element : 4\n",
      "Please enter the Value of 3 Element : 5\n",
      "\n",
      "Total Number of Even Numbers in this List =   2\n",
      "Total Number of Odd Numbers in this List =  1\n"
     ]
    }
   ],
   "source": [
    "NumList = []\n",
    "positive_no = 0\n",
    "negative_no = 0\n",
    "\n",
    "Number = int(input(\"Please enter the Total Number of List Elements: \"))\n",
    "for i in range(1, Number + 1):\n",
    "    value = int(input(\"Please enter the Value of %d Element : \" %i))\n",
    "    NumList.append(value)\n",
    "\n",
    "for j in range(Number):\n",
    "    if(NumList[j] > 0):\n",
    "        positive_no = positive_no + 1\n",
    "    else:\n",
    "        negative_no = negative_no + 1\n",
    "\n",
    "print(\"\\nTotal Number of Even Numbers in this List =  \",positive_no )\n",
    "print(\"Total Number of Odd Numbers in this List = \",negative_no )"
   ]
  },
  {
   "cell_type": "code",
   "execution_count": 11,
   "metadata": {},
   "outputs": [
    {
     "name": "stdout",
     "output_type": "stream",
     "text": [
      "The Largest Element in this List is :  80\n"
     ]
    }
   ],
   "source": [
    "# Python Program to find Largest Number in a List \n",
    "\n",
    "a = [10, 50, 60, 80, 20, 15]\n",
    "\n",
    "print(\"The Largest Element in this List is : \", max(a))"
   ]
  },
  {
   "cell_type": "code",
   "execution_count": 12,
   "metadata": {},
   "outputs": [
    {
     "name": "stdout",
     "output_type": "stream",
     "text": [
      "The Largest Element in this List is :  10\n"
     ]
    }
   ],
   "source": [
    "# Python Program to find smallest Number in a List \n",
    "\n",
    "a = [10, 50, 60, 80, 20, 15]\n",
    "\n",
    "print(\"The Largest Element in this List is : \", min(a))"
   ]
  },
  {
   "cell_type": "code",
   "execution_count": 14,
   "metadata": {},
   "outputs": [
    {
     "data": {
      "text/plain": [
       "6"
      ]
     },
     "execution_count": 14,
     "metadata": {},
     "output_type": "execute_result"
    }
   ],
   "source": [
    "a = [10, 50, 60, 80, 20, 15]\n",
    "len(a)"
   ]
  },
  {
   "cell_type": "code",
   "execution_count": 15,
   "metadata": {},
   "outputs": [
    {
     "name": "stdout",
     "output_type": "stream",
     "text": [
      "Element in this List are : \n",
      "[10, 50, 60, 80, 20, 15]\n"
     ]
    }
   ],
   "source": [
    "# Python Program to print Elements in a List \n",
    "\n",
    "a = [10, 50, 60, 80, 20, 15]\n",
    "\n",
    "print(\"Element in this List are : \")\n",
    "print(a)"
   ]
  },
  {
   "cell_type": "code",
   "execution_count": 16,
   "metadata": {},
   "outputs": [
    {
     "name": "stdout",
     "output_type": "stream",
     "text": [
      "Please enter the Total Number of List Elements: 4\n",
      "Please enter the Value of 1 Element : 20\n",
      "Please enter the Value of 2 Element : 24\n",
      "Please enter the Value of 3 Element : 14\n",
      "Please enter the Value of 4 Element : 12\n",
      "\n",
      "Even Numbers in this List are : \n",
      "20   24   14   12   "
     ]
    }
   ],
   "source": [
    "# Python Program to Print Even Numbers in a List\n",
    "\n",
    "NumList = []\n",
    "\n",
    "Number = int(input(\"Please enter the Total Number of List Elements: \"))\n",
    "for i in range(1, Number + 1):\n",
    "    value = int(input(\"Please enter the Value of %d Element : \" %i))\n",
    "    NumList.append(value)\n",
    "\n",
    "print(\"\\nEven Numbers in this List are : \")\n",
    "for j in range(Number):\n",
    "    if(NumList[j] % 2 == 0):\n",
    "        print(NumList[j], end = '   ')"
   ]
  },
  {
   "cell_type": "code",
   "execution_count": 17,
   "metadata": {},
   "outputs": [
    {
     "name": "stdout",
     "output_type": "stream",
     "text": [
      "Please enter the Total Number of List Elements: 4\n",
      "Please enter the Value of 1 Element : 20\n",
      "Please enter the Value of 2 Element : 15\n",
      "Please enter the Value of 3 Element : 13\n",
      "Please enter the Value of 4 Element : 12\n",
      "\n",
      "odd Numbers in this List are : \n",
      "15   13   "
     ]
    }
   ],
   "source": [
    "# Python Program to print odd Numbers in a List\n",
    "NumList = []\n",
    "\n",
    "Number = int(input(\"Please enter the Total Number of List Elements: \"))\n",
    "for i in range(1, Number + 1):\n",
    "    value = int(input(\"Please enter the Value of %d Element : \" %i))\n",
    "    NumList.append(value)\n",
    "\n",
    "print(\"\\nodd Numbers in this List are : \")\n",
    "for j in range(Number):\n",
    "    if(NumList[j] % 2 != 0):\n",
    "        print(NumList[j], end = '   ')"
   ]
  },
  {
   "cell_type": "code",
   "execution_count": 19,
   "metadata": {},
   "outputs": [
    {
     "name": "stdout",
     "output_type": "stream",
     "text": [
      "Please enter the Total Number of List Elements: 4\n",
      "Please enter the Value of 1 Element : -1\n",
      "Please enter the Value of 2 Element : -3\n",
      "Please enter the Value of 3 Element : 4\n",
      "Please enter the Value of 4 Element : -4\n",
      "\n",
      " positive  Numbers in this List are : \n",
      "4   "
     ]
    }
   ],
   "source": [
    "#Print Positive Numbers\n",
    "NumList = []\n",
    "positive_no = 0\n",
    "\n",
    "Number = int(input(\"Please enter the Total Number of List Elements: \"))\n",
    "for i in range(1, Number + 1):\n",
    "    value = int(input(\"Please enter the Value of %d Element : \" %i))\n",
    "    NumList.append(value)\n",
    "    \n",
    "print(\"\\n positive  Numbers in this List are : \")\n",
    "for j in range(Number):\n",
    "    if(NumList[j] > 0):\n",
    "        print(NumList[j], end = '   ') \n",
    "        \n",
    "        "
   ]
  },
  {
   "cell_type": "code",
   "execution_count": 21,
   "metadata": {},
   "outputs": [
    {
     "name": "stdout",
     "output_type": "stream",
     "text": [
      "Please enter the Total Number of List Elements: 4\n",
      "Please enter the Value of 1 Element : -3\n",
      "Please enter the Value of 2 Element : -2\n",
      "Please enter the Value of 3 Element : 6\n",
      "Please enter the Value of 4 Element : 7\n",
      "\n",
      " negative  Numbers in this List are : \n",
      "-3   -2   "
     ]
    }
   ],
   "source": [
    "#Print Negative Numbers\n",
    "NumList = []\n",
    "negative_no = 0\n",
    "\n",
    "Number = int(input(\"Please enter the Total Number of List Elements: \"))\n",
    "for i in range(1, Number + 1):\n",
    "    value = int(input(\"Please enter the Value of %d Element : \" %i))\n",
    "    NumList.append(value)\n",
    "    \n",
    "print(\"\\n negative  Numbers in this List are : \")\n",
    "for j in range(Number):\n",
    "    if(NumList[j] < 0):\n",
    "        print(NumList[j], end = '   ') \n"
   ]
  },
  {
   "cell_type": "code",
   "execution_count": 1,
   "metadata": {},
   "outputs": [
    {
     "name": "stdout",
     "output_type": "stream",
     "text": [
      "Please enter the Total Number of List Elements: 6\n",
      "Please enter the Value of 1 Element : 3\n",
      "Please enter the Value of 2 Element : 2\n",
      "Please enter the Value of 3 Element : 4\n",
      "Please enter the Value of 4 Element : 6\n",
      "Please enter the Value of 5 Element : 8\n",
      "Please enter the Value of 6 Element : 10\n",
      "Element in Even List is :  [2, 4, 6, 8, 10]\n",
      "Element in Odd List is :  [3]\n"
     ]
    }
   ],
   "source": [
    "# Python Program to Put Even and Odd Numbers in Separate List\n",
    "\n",
    "NumList = []\n",
    "Even = []\n",
    "Odd = []\n",
    "\n",
    "Number = int(input(\"Please enter the Total Number of List Elements: \"))\n",
    "for i in range(1, Number + 1):\n",
    "    value = int(input(\"Please enter the Value of %d Element : \" %i))\n",
    "    NumList.append(value)\n",
    "\n",
    "for j in range(Number):\n",
    "    if(NumList[j] % 2 == 0):\n",
    "        Even.append(NumList[j])\n",
    "    else:\n",
    "        Odd.append(NumList[j])\n",
    "\n",
    "print(\"Element in Even List is : \", Even)\n",
    "print(\"Element in Odd List is : \", Odd)"
   ]
  },
  {
   "cell_type": "code",
   "execution_count": 2,
   "metadata": {},
   "outputs": [
    {
     "name": "stdout",
     "output_type": "stream",
     "text": [
      "Please enter the Total Number of List Elements: 4\n",
      "Please enter the Value of 1 Element : -2\n",
      "Please enter the Value of 2 Element : 3\n",
      "Please enter the Value of 3 Element : -4\n",
      "Please enter the Value of 4 Element : -5\n",
      "Element in positive List is :  [3]\n",
      "Element in negative List is :  [-2, -4, -5]\n"
     ]
    }
   ],
   "source": [
    "# Python Program to Put positive and negative Numbers in Separate List\n",
    "NumList = []\n",
    "positive_no = []\n",
    "negative_no = []\n",
    "\n",
    "Number = int(input(\"Please enter the Total Number of List Elements: \"))\n",
    "for i in range(1, Number + 1):\n",
    "    value = int(input(\"Please enter the Value of %d Element : \" %i))\n",
    "    NumList.append(value)\n",
    "\n",
    "for j in range(Number):\n",
    "    if(NumList[j] > 0):\n",
    "        positive_no.append(NumList[j])\n",
    "    else:\n",
    "        negative_no.append(NumList[j])\n",
    "\n",
    "print(\"Element in positive List is : \", positive_no)\n",
    "print(\"Element in negative List is : \", negative_no)\n",
    "\n",
    "\n"
   ]
  },
  {
   "cell_type": "code",
   "execution_count": 3,
   "metadata": {},
   "outputs": [
    {
     "name": "stdout",
     "output_type": "stream",
     "text": [
      "Please enter the Total Number of List Elements: 6\n",
      "Please enter the Value of 1 Element : 2\n",
      "Please enter the Value of 2 Element : 3\n",
      "Please enter the Value of 3 Element : -3\n",
      "Please enter the Value of 4 Element : 4\n",
      "Please enter the Value of 5 Element : 4\n",
      "Please enter the Value of 6 Element : 6\n",
      "\n",
      "The Result of a Reverse List =   [6, 4, 4, -3, 3, 2]\n"
     ]
    }
   ],
   "source": [
    "# Python Program to Reverse List Elements\n",
    "\n",
    "NumList = []\n",
    "\n",
    "Number = int(input(\"Please enter the Total Number of List Elements: \"))\n",
    "for i in range(1, Number + 1):\n",
    "    value = int(input(\"Please enter the Value of %d Element : \" %i))\n",
    "    NumList.append(value)\n",
    "\n",
    "NumList.reverse()\n",
    "print(\"\\nThe Result of a Reverse List =  \", NumList)"
   ]
  },
  {
   "cell_type": "code",
   "execution_count": 9,
   "metadata": {},
   "outputs": [
    {
     "name": "stdout",
     "output_type": "stream",
     "text": [
      "Please enter the Total Number of List Elements: 4\n",
      "Please enter the Value of 1 Element : 2\n",
      "Please enter the Value of 2 Element : 5\n",
      "Please enter the Value of 3 Element : 4\n",
      "Please enter the Value of 4 Element : 6\n",
      "The Largest Element in this List is :  5\n"
     ]
    }
   ],
   "source": [
    "# Python Program to find Second Largest Number in a List \n",
    "\n",
    "NumList = []\n",
    "Number = int(input(\"Please enter the Total Number of List Elements: \"))\n",
    "for i in range(1, Number + 1):\n",
    "    value = int(input(\"Please enter the Value of %d Element : \" %i))\n",
    "    NumList.append(value)\n",
    "\n",
    "NumList.sort()\n",
    "\n",
    "print(\"The Largest Element in this List is : \", NumList[Number - 2])"
   ]
  },
  {
   "cell_type": "code",
   "execution_count": 10,
   "metadata": {},
   "outputs": [
    {
     "name": "stdout",
     "output_type": "stream",
     "text": [
      "Please enter the Total Number of List Elements: 4\n",
      "Please enter the Value of 1 Element : 2\n",
      "Please enter the Value of 2 Element : 3\n",
      "Please enter the Value of 3 Element : 6\n",
      "Please enter the Value of 4 Element : 7\n",
      "Element After Sorting List in Ascending Order is :  [2, 3, 6, 7]\n"
     ]
    }
   ],
   "source": [
    "# Python Program to Sort List in Ascending Order\n",
    "\n",
    "NumList = []\n",
    "\n",
    "Number = int(input(\"Please enter the Total Number of List Elements: \"))\n",
    "for i in range(1, Number + 1):\n",
    "    value = int(input(\"Please enter the Value of %d Element : \" %i))\n",
    "    NumList.append(value)\n",
    "\n",
    "NumList.sort()\n",
    "\n",
    "print(\"Element After Sorting List in Ascending Order is : \", NumList)\n"
   ]
  },
  {
   "cell_type": "code",
   "execution_count": 11,
   "metadata": {},
   "outputs": [
    {
     "name": "stdout",
     "output_type": "stream",
     "text": [
      "Please enter the Total Number of List Elements : 3\n",
      "Please enter the Value of 1 Element : 1\n",
      "Please enter the Value of 2 Element : 6\n",
      "Please enter the Value of 3 Element : 5\n",
      "\n",
      " The Sum of All Element in this List is :  12\n"
     ]
    }
   ],
   "source": [
    "# Python Program to find Sum of all Elements in a List\n",
    "\n",
    "NumList = []\n",
    "\n",
    "Number = int(input(\"Please enter the Total Number of List Elements : \"))\n",
    "for i in range(1, Number + 1):\n",
    "    value = int(input(\"Please enter the Value of %d Element : \" %i))\n",
    "    NumList.append(value)\n",
    "\n",
    "total = sum(NumList)\n",
    "\n",
    "print(\"\\n The Sum of All Element in this List is : \", total)"
   ]
  },
  {
   "cell_type": "code",
   "execution_count": 12,
   "metadata": {},
   "outputs": [
    {
     "name": "stdout",
     "output_type": "stream",
     "text": [
      "Please enter the Total Number of List Elements: 4\n",
      "Please enter the Value of 1 Element : 2\n",
      "Please enter the Value of 2 Element : 6\n",
      "Please enter the Value of 3 Element : 4\n",
      "Please enter the Value of 4 Element : 7\n",
      "\n",
      "The Sum of Even Numbers in this List =   12\n",
      "The Sum of Odd Numbers in this List =   7\n"
     ]
    }
   ],
   "source": [
    "# Python Program to find Sum of Even and Odd Numbers in a List\n",
    "\n",
    "NumList = []\n",
    "Even_Sum = 0\n",
    "Odd_Sum = 0\n",
    "\n",
    "Number = int(input(\"Please enter the Total Number of List Elements: \"))\n",
    "for i in range(1, Number + 1):\n",
    "    value = int(input(\"Please enter the Value of %d Element : \" %i))\n",
    "    NumList.append(value)\n",
    "\n",
    "for j in range(Number):\n",
    "    if(NumList[j] % 2 == 0):\n",
    "        Even_Sum = Even_Sum + NumList[j]\n",
    "    else:\n",
    "        Odd_Sum = Odd_Sum + NumList[j]\n",
    "\n",
    "print(\"\\nThe Sum of Even Numbers in this List =  \", Even_Sum)\n",
    "print(\"The Sum of Odd Numbers in this List =  \", Odd_Sum)"
   ]
  },
  {
   "cell_type": "code",
   "execution_count": 13,
   "metadata": {},
   "outputs": [
    {
     "name": "stdout",
     "output_type": "stream",
     "text": [
      "Please enter the Key : neha\n",
      "Please enter the Value : amit\n",
      "\n",
      "Updated Dictionary =  {'neha': 'amit'}\n"
     ]
    }
   ],
   "source": [
    "# Python Program to Add Key-Value Pair to a Dictionary\n",
    "\n",
    "key = input(\"Please enter the Key : \")\n",
    "value = input(\"Please enter the Value : \")\n",
    "\n",
    "myDict = {}\n",
    "\n",
    "# Add Key-Value Pair to a Dictionary in Python\n",
    "myDict.update({key:value})\n",
    "print(\"\\nUpdated Dictionary = \", myDict)"
   ]
  },
  {
   "cell_type": "code",
   "execution_count": 14,
   "metadata": {},
   "outputs": [
    {
     "name": "stdout",
     "output_type": "stream",
     "text": [
      "Dictionary :  {'a': 'apple', 'b': 'Banana', 'o': 'Orange', 'm': 'Mango'}\n",
      "Please enter the Key you want to search for: a\n",
      "\n",
      "Key Exists in this Dictionary\n",
      "Key =  a  and Value =  apple\n"
     ]
    }
   ],
   "source": [
    "# Python Program to check if a Given key exists in a Dictionary\n",
    "\n",
    "myDict = {'a': 'apple', 'b': 'Banana' , 'o': 'Orange', 'm': 'Mango'}\n",
    "print(\"Dictionary : \", myDict)\n",
    "\n",
    "key = input(\"Please enter the Key you want to search for: \")\n",
    "\n",
    "# Check Whether the Given key exists in a Dictionary or Not\n",
    "if key in myDict.keys():\n",
    "    print(\"\\nKey Exists in this Dictionary\")\n",
    "    print(\"Key = \", key, \" and Value = \", myDict[key])\n",
    "else:\n",
    "    print(\"\\nKey Does not Exists in this Dictionary\") "
   ]
  },
  {
   "cell_type": "code",
   "execution_count": 15,
   "metadata": {},
   "outputs": [
    {
     "name": "stdout",
     "output_type": "stream",
     "text": [
      "Please enter any String : i love my india\n",
      "Dictionary Items  :   {'i': 1, 'love': 1, 'my': 1, 'india': 1}\n"
     ]
    }
   ],
   "source": [
    "# Python Program to Count words in a String using Dictionary\n",
    "\n",
    "string = input(\"Please enter any String : \")\n",
    "words = []\n",
    "\n",
    "words = string.split()\n",
    "frequency = [words.count(i) for i in words]\n",
    "\n",
    "myDict = dict(zip(words, frequency))\n",
    "print(\"Dictionary Items  :  \",  myDict)"
   ]
  },
  {
   "cell_type": "code",
   "execution_count": 1,
   "metadata": {},
   "outputs": [
    {
     "name": "stdout",
     "output_type": "stream",
     "text": [
      "Please enter the Maximum Number : 3\n",
      "\n",
      "Dictionary =  {1: 1, 2: 4, 3: 9}\n"
     ]
    }
   ],
   "source": [
    "# Python Program to Create Dictionary of keys and values are square of keys\n",
    "\n",
    "number = int(input(\"Please enter the Maximum Number : \"))\n",
    "myDict = {}\n",
    "\n",
    "for x in range(1, number + 1):\n",
    "    myDict[x] = x ** 2\n",
    "    \n",
    "print(\"\\nDictionary = \", myDict)\n",
    "    \n"
   ]
  },
  {
   "cell_type": "code",
   "execution_count": 2,
   "metadata": {},
   "outputs": [
    {
     "name": "stdout",
     "output_type": "stream",
     "text": [
      "Please enter the Maximum Number : 5\n",
      "\n",
      "Dictionary =  {1: 1, 2: 4, 3: 9, 4: 16, 5: 25}\n"
     ]
    }
   ],
   "source": [
    "# Python Program to Create Dictionary of Numbers 1 to n in (x, x*x) form\n",
    "number = int(input(\"Please enter the Maximum Number : \"))\n",
    "myDict = {}\n",
    "\n",
    "for x in range(1, number + 1):\n",
    "    myDict[x] = x*x\n",
    "\n",
    "print(\"\\nDictionary = \", myDict)\n",
    "    "
   ]
  },
  {
   "cell_type": "code",
   "execution_count": 3,
   "metadata": {},
   "outputs": [
    {
     "name": "stdout",
     "output_type": "stream",
     "text": [
      "Dictionary Items  :   {'name': 'John', 'age': 25, 'job': 'Developer'}\n"
     ]
    }
   ],
   "source": [
    "# Python Program to Map two lists into a Dictionary\n",
    "\n",
    "keys = ['name', 'age', 'job']\n",
    "values = ['John', 25, 'Developer']\n",
    "\n",
    "myDict = {k: v for k, v in zip(keys, values)}\n",
    "print(\"Dictionary Items  :  \",  myDict)\n"
   ]
  },
  {
   "cell_type": "code",
   "execution_count": 4,
   "metadata": {},
   "outputs": [
    {
     "name": "stdout",
     "output_type": "stream",
     "text": [
      "First Dictionary:  {1: 'apple', 2: 'Banana', 3: 'Orange'}\n",
      "Second Dictionary:  {4: 'Kiwi', 5: 'Mango'}\n",
      "\n",
      "After Concatenating two Dictionaries : \n",
      "{1: 'apple', 2: 'Banana', 3: 'Orange', 4: 'Kiwi', 5: 'Mango'}\n"
     ]
    }
   ],
   "source": [
    "# Python Program to Concatenate Two Dictionaries\n",
    "\n",
    "first_Dict = {1: 'apple', 2: 'Banana' , 3: 'Orange'}\n",
    "second_Dict = { 4: 'Kiwi', 5: 'Mango'}\n",
    "print(\"First Dictionary: \", first_Dict)\n",
    "print(\"Second Dictionary: \", second_Dict)\n",
    "\n",
    "# Concatenate Two Dictionaries in Python\n",
    "first_Dict.update(second_Dict)\n",
    "    \n",
    "print(\"\\nAfter Concatenating two Dictionaries : \")\n",
    "print(first_Dict)"
   ]
  },
  {
   "cell_type": "code",
   "execution_count": 5,
   "metadata": {},
   "outputs": [
    {
     "name": "stdout",
     "output_type": "stream",
     "text": [
      "Dictionary:  {'x': 20, 'y': 5, 'z': 60}\n",
      "\n",
      "After Multiplying Items in this Dictionary:  6000\n"
     ]
    }
   ],
   "source": [
    "# Python Program to Multiply All Items in a Dictinary\n",
    "myDict = {'x': 20, 'y':5, 'z':60}\n",
    "print(\"Dictionary: \", myDict)\n",
    "\n",
    "total = 1\n",
    "# Multiply Items\n",
    "for key in myDict:\n",
    "    total = total * myDict[key]\n",
    "    \n",
    "print(\"\\nAfter Multiplying Items in this Dictionary: \", total)\n",
    "\n"
   ]
  },
  {
   "cell_type": "code",
   "execution_count": 7,
   "metadata": {},
   "outputs": [
    {
     "name": "stdout",
     "output_type": "stream",
     "text": [
      "Dictionary Items  :   {'name': 'John', 'age': 25, 'job': 'Developer'}\n",
      "Please enter the key that you want to Delete : age\n",
      "\n",
      "Updated Dictionary =  {'name': 'John', 'job': 'Developer'}\n"
     ]
    }
   ],
   "source": [
    "# Python Program to Remove Given Key from a Dictionary\n",
    "\n",
    "myDict = {'name': 'John', 'age': 25, 'job': 'Developer'}\n",
    "print(\"Dictionary Items  :  \",  myDict)\n",
    "\n",
    "key = input(\"Please enter the key that you want to Delete : \")\n",
    "\n",
    "if key in myDict:\n",
    "    del myDict[key]\n",
    "else:\n",
    "    print(\"Given Key is Not in this Dictionary\")\n",
    "    \n",
    "print(\"\\nUpdated Dictionary = \", myDict)"
   ]
  },
  {
   "cell_type": "code",
   "execution_count": 12,
   "metadata": {},
   "outputs": [
    {
     "name": "stdout",
     "output_type": "stream",
     "text": [
      "Dictionary:  {'x': 25, 'y': 30, 'z': 25}\n",
      "\n",
      "after addition item in Dictionary :  81\n"
     ]
    }
   ],
   "source": [
    "mydict = {'x':25,'y':30,'z':25}\n",
    "print(\"Dictionary: \", mydict)\n",
    "\n",
    "total = 1 \n",
    "# add item \n",
    "for key in mydict:\n",
    "    total = total + mydict[key]\n",
    "    \n",
    "print(\"\\nafter addition item in Dictionary : \",total)    "
   ]
  },
  {
   "cell_type": "code",
   "execution_count": 10,
   "metadata": {},
   "outputs": [
    {
     "name": "stdout",
     "output_type": "stream",
     "text": [
      "Please Enter the total Number of Rows  : 7\n",
      "Please Enter the total Number of Columns  : 5\n",
      "Print Number Pattern - 1 and 0 in alternative Columns\n",
      "1  0  1  0  1  \n",
      "1  0  1  0  1  \n",
      "1  0  1  0  1  \n",
      "1  0  1  0  1  \n",
      "1  0  1  0  1  \n",
      "1  0  1  0  1  \n",
      "1  0  1  0  1  \n"
     ]
    }
   ],
   "source": [
    "# Python Program to Print 1 and 0 in alternative Columns\n",
    " \n",
    "rows = int(input(\"Please Enter the total Number of Rows  : \"))\n",
    "columns = int(input(\"Please Enter the total Number of Columns  : \"))\n",
    "\n",
    "print(\"Print Number Pattern - 1 and 0 in alternative Columns\") \n",
    " \n",
    "for i in range(1, rows + 1):\n",
    "    for j in range(1, columns + 1):\n",
    "        if(j % 2 == 0):          \n",
    "            print('0', end = '  ')\n",
    "        else:\n",
    "            print('1', end = '  ')\n",
    "    print()"
   ]
  },
  {
   "cell_type": "code",
   "execution_count": 11,
   "metadata": {},
   "outputs": [
    {
     "name": "stdout",
     "output_type": "stream",
     "text": [
      "Please Enter the Total Number of Elements : 7\n",
      "Please enter the 0 Element of List1 : 6\n",
      "Please enter the 1 Element of List1 : 4\n",
      "Please enter the 2 Element of List1 : 3\n",
      "Please enter the 3 Element of List1 : 2\n",
      "Please enter the 4 Element of List1 : 4\n",
      "Please enter the 5 Element of List1 : 2\n",
      "Please enter the 6 Element of List1 : 4\n",
      "The Sorted List in Ascending Order :  [2, 2, 3, 4, 4, 4, 6]\n"
     ]
    }
   ],
   "source": [
    "# Python program for Bubble Sort\n",
    "\n",
    "a = []\n",
    "number = int(input(\"Please Enter the Total Number of Elements : \"))\n",
    "for i in range(number):\n",
    "    value = int(input(\"Please enter the %d Element of List1 : \" %i))\n",
    "    a.append(value)\n",
    "\n",
    "for i in range(number -1):\n",
    "    for j in range(number - i - 1):\n",
    "        if(a[j] > a[j + 1]):\n",
    "             temp = a[j]\n",
    "             a[j] = a[j + 1]\n",
    "             a[j + 1] = temp\n",
    "\n",
    "print(\"The Sorted List in Ascending Order : \", a)"
   ]
  },
  {
   "cell_type": "code",
   "execution_count": 13,
   "metadata": {},
   "outputs": [
    {
     "name": "stdout",
     "output_type": "stream",
     "text": [
      "Please Enter the total Number of Rows  : 6\n",
      "Please Enter the total Number of Columns  : 4\n",
      "Print Number Pattern - 1 and 0 in alternative rows\n",
      "1  1  1  1  \n",
      "0  0  0  0  \n",
      "1  1  1  1  \n",
      "0  0  0  0  \n",
      "1  1  1  1  \n",
      "0  0  0  0  \n"
     ]
    }
   ],
   "source": [
    "# Python Program to Print 1 and 0 in alternative rows\n",
    " \n",
    "rows = int(input(\"Please Enter the total Number of Rows  : \"))\n",
    "columns = int(input(\"Please Enter the total Number of Columns  : \"))\n",
    "\n",
    "print(\"Print Number Pattern - 1 and 0 in alternative rows\") \n",
    " \n",
    "for i in range(1, rows + 1):\n",
    "    for j in range(1, columns + 1):\n",
    "        if(i % 2 != 0):          \n",
    "            print('1', end = '  ')\n",
    "        else:\n",
    "            print('0', end = '  ')\n",
    "    print()\n",
    "\n"
   ]
  },
  {
   "cell_type": "code",
   "execution_count": 14,
   "metadata": {},
   "outputs": [
    {
     "name": "stdout",
     "output_type": "stream",
     "text": [
      "Please Enter the total Number of Rows  : 5\n",
      "Please Enter the total Number of Columns  : 3\n",
      "Box Number Pattern of 1 and 0\n",
      "1  1  1  \n",
      "1  0  1  \n",
      "1  0  1  \n",
      "1  0  1  \n",
      "1  1  1  \n"
     ]
    }
   ],
   "source": [
    "# Python Program to Print Box Number Pattern of 1 and 0\n",
    " \n",
    "rows = int(input(\"Please Enter the total Number of Rows  : \"))\n",
    "columns = int(input(\"Please Enter the total Number of Columns  : \"))\n",
    "\n",
    "print(\"Box Number Pattern of 1 and 0\") \n",
    " \n",
    "for i in range(1, rows + 1):\n",
    "    for j in range(1, columns + 1):\n",
    "        if(i == 1 or i == rows or j == 1 or j == columns):          \n",
    "            print('1', end = '  ')\n",
    "        else:\n",
    "            print('0', end = '  ')\n",
    "    print()"
   ]
  },
  {
   "cell_type": "code",
   "execution_count": 16,
   "metadata": {},
   "outputs": [
    {
     "name": "stdout",
     "output_type": "stream",
     "text": [
      "Please Enter the total Number of Rows  : 3\n",
      "Exponentially Increasing Stars\n",
      "*  \n",
      "*  *  \n",
      "*  *  *  *  \n",
      "*  *  *  *  *  *  *  *  \n"
     ]
    }
   ],
   "source": [
    "# Python Program to Print Exponentially Increasing Star Pattern\n",
    "import math\n",
    "\n",
    "rows = int(input(\"Please Enter the total Number of Rows  : \"))\n",
    "\n",
    "print(\"Exponentially Increasing Stars\") \n",
    "i = 0\n",
    "while(i <= rows):\n",
    "    j = 1\n",
    "    while(j <= math.pow(2, i)):        \n",
    "        print('*', end = '  ')\n",
    "        j = j + 1\n",
    "    i = i + 1\n",
    "    print()"
   ]
  },
  {
   "cell_type": "markdown",
   "metadata": {},
   "source": []
  },
  {
   "cell_type": "code",
   "execution_count": 20,
   "metadata": {},
   "outputs": [],
   "source": [
    "#a=arr.array(data type,value list)           #when you import using arr alias\n",
    "#a=array(data type,value list)               #when you import using \n",
    "#where d is data type,We cannot specify the values of different data types to a single array.\n",
    "#Accessing array elements :\n",
    "#Syntax:\n",
    "\n",
    "#Array_name[index value]\n",
    "\n",
    "#Example:  len(),append(), extend(), insert (i,x),pop() or remove() ,Slicing an array.\n"
   ]
  },
  {
   "cell_type": "code",
   "execution_count": 21,
   "metadata": {},
   "outputs": [
    {
     "name": "stdout",
     "output_type": "stream",
     "text": [
      "Please Enter the total Number of Rows  : 5\n",
      "Floyd's Triangle\n",
      "1  \n",
      "2  3  \n",
      "4  5  6  \n",
      "7  8  9  10  \n",
      "11  12  13  14  15  \n"
     ]
    }
   ],
   "source": [
    "# Python Program to Print Floyd's Triangle\n",
    "\n",
    "rows = int(input(\"Please Enter the total Number of Rows  : \"))\n",
    "number = 1\n",
    "\n",
    "print(\"Floyd's Triangle\") \n",
    "for i in range(1, rows + 1):\n",
    "    for j in range(1, i + 1):        \n",
    "        print(number, end = '  ')\n",
    "        number = number + 1\n",
    "    print()"
   ]
  },
  {
   "cell_type": "code",
   "execution_count": 22,
   "metadata": {},
   "outputs": [
    {
     "name": "stdout",
     "output_type": "stream",
     "text": [
      "Please Enter the total Number of Rows  : 5\n",
      "Please Enter the total Number of Columns  : 3\n",
      "Hollow Box Pattern of Numbers\n",
      "1  1  1  \n",
      "1     1  \n",
      "1     1  \n",
      "1     1  \n",
      "1  1  1  \n"
     ]
    }
   ],
   "source": [
    "# Python Program to Print Hollow Box Pattern of Numbers 1 and 0\n",
    " \n",
    "rows = int(input(\"Please Enter the total Number of Rows  : \"))\n",
    "columns = int(input(\"Please Enter the total Number of Columns  : \"))\n",
    "\n",
    "print(\"Hollow Box Pattern of Numbers\") \n",
    " \n",
    "for i in range(1, rows + 1):\n",
    "    for j in range(1, columns + 1):\n",
    "        if(i == 1 or i == rows or j == 1 or j == columns):          \n",
    "            print('1', end = '  ')\n",
    "        else:\n",
    "            print(' ', end = '  ')\n",
    "    print()"
   ]
  },
  {
   "cell_type": "code",
   "execution_count": 23,
   "metadata": {},
   "outputs": [
    {
     "name": "stdout",
     "output_type": "stream",
     "text": [
      "Please Enter the Total Number of Rows  : 5\n",
      "Please Enter the Total Number of Columns  : 3\n",
      "Hollow Rectangle Star Pattern\n",
      "*  *  *  \n",
      "*     *  \n",
      "*     *  \n",
      "*     *  \n",
      "*  *  *  \n"
     ]
    }
   ],
   "source": [
    "# Python Program to Print Hollow Rectangle Star Pattern\n",
    "\n",
    "rows = int(input(\"Please Enter the Total Number of Rows  : \"))\n",
    "columns = int(input(\"Please Enter the Total Number of Columns  : \"))\n",
    "\n",
    "print(\"Hollow Rectangle Star Pattern\") \n",
    "for i in range(rows):\n",
    "    for j in range(columns):\n",
    "        if(i == 0 or i == rows - 1 or j == 0 or j == columns - 1):\n",
    "            print('*', end = '  ')\n",
    "        else:\n",
    "            print(' ', end = '  ')\n",
    "    print()"
   ]
  },
  {
   "cell_type": "code",
   "execution_count": 24,
   "metadata": {},
   "outputs": [
    {
     "name": "stdout",
     "output_type": "stream",
     "text": [
      "Please Enter any Side of a Square  : 6\n",
      "Hollow Square Star Pattern\n",
      "*  *  *  *  *  *  \n",
      "*              *  \n",
      "*              *  \n",
      "*              *  \n",
      "*              *  \n",
      "*  *  *  *  *  *  \n"
     ]
    }
   ],
   "source": [
    "# Python Program to Print Hollow Square Star Pattern\n",
    "\n",
    "side = int(input(\"Please Enter any Side of a Square  : \"))\n",
    "\n",
    "print(\"Hollow Square Star Pattern\") \n",
    "for i in range(side):\n",
    "    for j in range(side):\n",
    "        if(i == 0 or i == side - 1 or j == 0 or j == side - 1):\n",
    "            print('*', end = '  ')\n",
    "        else:\n",
    "            print(' ', end = '  ')\n",
    "    print()"
   ]
  },
  {
   "cell_type": "code",
   "execution_count": 25,
   "metadata": {},
   "outputs": [
    {
     "name": "stdout",
     "output_type": "stream",
     "text": [
      "Please Enter the total Number of Rows  : 6\n",
      "Inverted Right Triangle Pattern of Numbers\n",
      "6   6   6   6   6   6   \n",
      "5   5   5   5   5   \n",
      "4   4   4   4   \n",
      "3   3   3   \n",
      "2   2   \n",
      "1   \n"
     ]
    }
   ],
   "source": [
    "# Python Program to Print Inverted Right Triangle of Numbers\n",
    " \n",
    "rows = int(input(\"Please Enter the total Number of Rows  : \"))\n",
    "\n",
    "print(\"Inverted Right Triangle Pattern of Numbers\") \n",
    "i = rows\n",
    "while(i >= 1):\n",
    "    for j in range(1, i + 1):      \n",
    "        print('%d ' %i, end = '  ')\n",
    "    i = i - 1\n",
    "    print()"
   ]
  },
  {
   "cell_type": "code",
   "execution_count": 26,
   "metadata": {},
   "outputs": [
    {
     "name": "stdout",
     "output_type": "stream",
     "text": [
      "Please Enter the total Number of Rows  : 6\n",
      "Inverted Right Angle Triangle of Stars\n",
      "*   *   *   *   *   *   \n",
      "*   *   *   *   *   \n",
      "*   *   *   *   \n",
      "*   *   *   \n",
      "*   *   \n",
      "*   \n"
     ]
    }
   ],
   "source": [
    "# Python Program to Print Inverted Right Triangle Star Pattern\n",
    " \n",
    "rows = int(input(\"Please Enter the total Number of Rows  : \"))\n",
    " \n",
    "print(\"Inverted Right Angle Triangle of Stars\") \n",
    "i = rows\n",
    "while(i > 0):\n",
    "    j = i\n",
    "    while(j > 0):      \n",
    "        print('* ', end = '  ')\n",
    "        j = j - 1\n",
    "    i = i - 1\n",
    "    print()"
   ]
  },
  {
   "cell_type": "code",
   "execution_count": 27,
   "metadata": {},
   "outputs": [
    {
     "name": "stdout",
     "output_type": "stream",
     "text": [
      "Please Enter the Total Number of Rows  : 7\n",
      "Mirrored Right Triangle Star Pattern\n",
      "                  *  \n",
      "               *  *  \n",
      "            *  *  *  \n",
      "         *  *  *  *  \n",
      "      *  *  *  *  *  \n",
      "   *  *  *  *  *  *  \n",
      "*  *  *  *  *  *  *  \n"
     ]
    }
   ],
   "source": [
    "# Python Program to Print Mirrored Right Triangle Star Pattern\n",
    "\n",
    "rows = int(input(\"Please Enter the Total Number of Rows  : \"))\n",
    "\n",
    "print(\"Mirrored Right Triangle Star Pattern\") \n",
    "for i in range(1, rows + 1):\n",
    "    for j in range(1, rows + 1):\n",
    "        if(j <= rows - i):\n",
    "            print(' ', end = '  ')\n",
    "        else:\n",
    "            print('*', end = '  ')\n",
    "    print()"
   ]
  },
  {
   "cell_type": "code",
   "execution_count": 28,
   "metadata": {},
   "outputs": [
    {
     "name": "stdout",
     "output_type": "stream",
     "text": [
      "Please Enter the Total Number of Rows  : 6\n",
      "Please Enter the Total Number of Columns  : 3\n",
      "Rectangle Star Pattern\n",
      "*  *  *  \n",
      "*  *  *  \n",
      "*  *  *  \n",
      "*  *  *  \n",
      "*  *  *  \n",
      "*  *  *  \n"
     ]
    }
   ],
   "source": [
    "# Python Program to Print Rectangle Star Pattern\n",
    "\n",
    "rows = int(input(\"Please Enter the Total Number of Rows  : \"))\n",
    "columns = int(input(\"Please Enter the Total Number of Columns  : \"))\n",
    "\n",
    "print(\"Rectangle Star Pattern\") \n",
    "for i in range(rows):\n",
    "    for j in range(columns):\n",
    "        print('*', end = '  ')\n",
    "    print()"
   ]
  },
  {
   "cell_type": "code",
   "execution_count": 29,
   "metadata": {},
   "outputs": [
    {
     "name": "stdout",
     "output_type": "stream",
     "text": [
      "Please Enter the Total Number of Rows  : 6\n",
      "Reverse Mirrored Right Triangle Star Pattern\n",
      "*  *  *  *  *  *  \n",
      "   *  *  *  *  *  \n",
      "      *  *  *  *  \n",
      "         *  *  *  \n",
      "            *  *  \n",
      "               *  \n"
     ]
    }
   ],
   "source": [
    "# Python Program to Print Reverse Mirrored Right Triangle Star Pattern\n",
    "\n",
    "rows = int(input(\"Please Enter the Total Number of Rows  : \"))\n",
    "\n",
    "print(\"Reverse Mirrored Right Triangle Star Pattern\") \n",
    "for i in range(1, rows + 1):\n",
    "    for j in range(1, rows + 1):\n",
    "        if(j < i):\n",
    "            print(' ', end = '  ')\n",
    "        else:\n",
    "            print('*', end = '  ')\n",
    "    print()"
   ]
  },
  {
   "cell_type": "code",
   "execution_count": 30,
   "metadata": {},
   "outputs": [
    {
     "name": "stdout",
     "output_type": "stream",
     "text": [
      "Please Enter the total Number of Rows  : 5\n",
      "Right Triangle Pattern of Numbers\n",
      "1  \n",
      "2  2  \n",
      "3  3  3  \n",
      "4  4  4  4  \n",
      "5  5  5  5  5  \n"
     ]
    }
   ],
   "source": [
    "# Python Program to Print Right Triangle Number Pattern\n",
    " \n",
    "rows = int(input(\"Please Enter the total Number of Rows  : \"))\n",
    "\n",
    "print(\"Right Triangle Pattern of Numbers\") \n",
    " \n",
    "for i in range(1, rows + 1):\n",
    "    for j in range(1, i + 1):        \n",
    "        print('%d' %i, end = '  ')\n",
    "    print()"
   ]
  },
  {
   "cell_type": "code",
   "execution_count": 31,
   "metadata": {},
   "outputs": [
    {
     "name": "stdout",
     "output_type": "stream",
     "text": [
      "Please Enter the Total Number of Rows  : 6\n",
      "Right Angled Triangle Star Pattern\n",
      "*  \n",
      "*  *  \n",
      "*  *  *  \n",
      "*  *  *  *  \n",
      "*  *  *  *  *  \n",
      "*  *  *  *  *  *  \n"
     ]
    }
   ],
   "source": [
    "# Python Program to Print Right Angled Triangle Star Pattern\n",
    "\n",
    "rows = int(input(\"Please Enter the Total Number of Rows  : \"))\n",
    "\n",
    "print(\"Right Angled Triangle Star Pattern\") \n",
    "for i in range(1, rows + 1):\n",
    "    for j in range(1, i + 1):\n",
    "        print('*', end = '  ')\n",
    "    print()"
   ]
  },
  {
   "cell_type": "code",
   "execution_count": 32,
   "metadata": {},
   "outputs": [
    {
     "name": "stdout",
     "output_type": "stream",
     "text": [
      "Please Enter any Side of a Square  : 6\n",
      "Square Star Pattern\n",
      "*  *  *  *  *  *  \n",
      "*  *  *  *  *  *  \n",
      "*  *  *  *  *  *  \n",
      "*  *  *  *  *  *  \n",
      "*  *  *  *  *  *  \n",
      "*  *  *  *  *  *  \n"
     ]
    }
   ],
   "source": [
    "# Python Program to Print Square Star Pattern\n",
    " \n",
    "side = int(input(\"Please Enter any Side of a Square  : \"))\n",
    "\n",
    "print(\"Square Star Pattern\") \n",
    "\n",
    "for i in range(side):\n",
    "    for i in range(side):\n",
    "        print('*', end = '  ')\n",
    "    print()"
   ]
  },
  {
   "cell_type": "code",
   "execution_count": 33,
   "metadata": {},
   "outputs": [
    {
     "name": "stdout",
     "output_type": "stream",
     "text": [
      "Please Enter any Side of a Square  : 4\n",
      "Square Number Pattern\n",
      "1  1  1  1  \n",
      "1  1  1  1  \n",
      "1  1  1  1  \n",
      "1  1  1  1  \n"
     ]
    }
   ],
   "source": [
    "# Python Program to Print Square Number Pattern\n",
    " \n",
    "side = int(input(\"Please Enter any Side of a Square  : \"))\n",
    "\n",
    "print(\"Square Number Pattern\") \n",
    "\n",
    "for i in range(side):\n",
    "    for i in range(side):\n",
    "        print('1', end = '  ')\n",
    "    print()"
   ]
  },
  {
   "cell_type": "code",
   "execution_count": 35,
   "metadata": {},
   "outputs": [
    {
     "name": "stdout",
     "output_type": "stream",
     "text": [
      "Sum of all the elements of an array: 15\n"
     ]
    }
   ],
   "source": [
    "#Initialize array     \n",
    "arr = [1, 2, 3, 4, 5];     \n",
    "sum = 0;    \n",
    "     \n",
    "#Loop through the array to calculate sum of elements    \n",
    "for i in range(0, len(arr)):    \n",
    "    sum = sum + arr[i];    \n",
    "     \n",
    "print(\"Sum of all the elements of an array: \" + str(sum));    "
   ]
  },
  {
   "cell_type": "code",
   "execution_count": 36,
   "metadata": {},
   "outputs": [
    {
     "name": "stdout",
     "output_type": "stream",
     "text": [
      "Largest element present in given array: 75\n"
     ]
    }
   ],
   "source": [
    "#Initialize array     \n",
    "arr = [25, 11, 7, 75, 56];     \n",
    "     \n",
    "#Initialize max with first element of array.    \n",
    "max = arr[0];    \n",
    "     \n",
    "#Loop through the array    \n",
    "for i in range(0, len(arr)):    \n",
    "    #Compare elements of array with max    \n",
    "   if(arr[i] > max):    \n",
    "       max = arr[i];    \n",
    "           \n",
    "print(\"Largest element present in given array: \" + str(max));   "
   ]
  },
  {
   "cell_type": "code",
   "execution_count": 37,
   "metadata": {},
   "outputs": [
    {
     "name": "stdout",
     "output_type": "stream",
     "text": [
      "Original array: \n",
      "1\n",
      "2\n",
      "3\n",
      "4\n",
      "5\n",
      "\n",
      "Array after left rotation: \n",
      "4\n",
      "5\n",
      "1\n",
      "2\n",
      "3\n"
     ]
    }
   ],
   "source": [
    "#Initialize array     \n",
    "arr = [1, 2, 3, 4, 5];     \n",
    "#n determine the number of times an array should be rotated    \n",
    "n = 3;    \n",
    "     \n",
    "#Displays original array    \n",
    "print(\"Original array: \");    \n",
    "for i in range(0, len(arr)):    \n",
    "    print(arr[i]),     \n",
    "     \n",
    "#Rotate the given array by n times toward left    \n",
    "for i in range(0, n):    \n",
    "    #Stores the first element of the array    \n",
    "    first = arr[0];    \n",
    "        \n",
    "    for j in range(0, len(arr)-1):    \n",
    "        #Shift element of array by one    \n",
    "        arr[j] = arr[j+1];    \n",
    "            \n",
    "    #First element of array will be added to the end    \n",
    "    arr[len(arr)-1] = first;    \n",
    "     \n",
    "print();    \n",
    "     \n",
    "#Displays resulting array after rotation    \n",
    "print(\"Array after left rotation: \");    \n",
    "for i in range(0, len(arr)):    \n",
    "    print(arr[i]),    "
   ]
  },
  {
   "cell_type": "code",
   "execution_count": 38,
   "metadata": {},
   "outputs": [
    {
     "name": "stdout",
     "output_type": "stream",
     "text": [
      "5 6 52 36 12 10 "
     ]
    }
   ],
   "source": [
    "# Python program to split array and move first \n",
    "# part to end. \n",
    "  \n",
    "def splitArr(arr, n, k):  \n",
    "    for i in range(0, k):  \n",
    "        x = arr[0] \n",
    "        for j in range(0, n-1): \n",
    "            arr[j] = arr[j + 1] \n",
    "          \n",
    "        arr[n-1] = x \n",
    "          \n",
    "  \n",
    "# main \n",
    "arr = [12, 10, 5, 6, 52, 36] \n",
    "n = len(arr) \n",
    "position = 2\n",
    "  \n",
    "splitArr(arr, n, position) \n",
    "  \n",
    "for i in range(0, n):  \n",
    "    print(arr[i], end = ' ') "
   ]
  },
  {
   "cell_type": "code",
   "execution_count": 39,
   "metadata": {},
   "outputs": [
    {
     "name": "stdout",
     "output_type": "stream",
     "text": [
      "9\n"
     ]
    }
   ],
   "source": [
    "#Python Program for Find remainder of array multiplication divided by n\n",
    "def findremainder(arr, lens, n): \n",
    "    mul = 1\n",
    "  \n",
    "    # find the individual \n",
    "    # remainder and  \n",
    "    # multiple with mul. \n",
    "    for i in range(lens):  \n",
    "        mul = (mul * (arr[i] % n)) % n \n",
    "      \n",
    "    return mul % n \n",
    "  \n",
    "# Driven code \n",
    "arr = [ 100, 10, 5, 25, 35, 14 ] \n",
    "lens = len(arr) \n",
    "n = 11\n",
    "  \n",
    "# print the remainder \n",
    "# of after multiple \n",
    "# all the numbers \n",
    "print( findremainder(arr, lens, n)) "
   ]
  },
  {
   "cell_type": "code",
   "execution_count": 40,
   "metadata": {},
   "outputs": [
    {
     "name": "stdout",
     "output_type": "stream",
     "text": [
      "5 6 0 1 2 3\n"
     ]
    }
   ],
   "source": [
    "#Reconstruct the array by replacing arr[i] with (arr[i-1]+1) % M\n",
    "def construct(n, m, a): \n",
    "    ind = 0\n",
    "  \n",
    "    # Finding the index which is not -1 \n",
    "    for i in range(n): \n",
    "        if (a[i]!=-1): \n",
    "            ind = i \n",
    "            break\n",
    "  \n",
    "    # Calculating the values of the indexes ind-1 to 0 \n",
    "    for i in range(ind-1, -1, -1): \n",
    "        if (a[i]==-1): \n",
    "            a[i]=(a[i + 1]-1 + m)% m \n",
    "  \n",
    "    # Calculating the values of the indexes ind + 1 to n \n",
    "    for i in range(ind + 1, n): \n",
    "        if(a[i]==-1): \n",
    "            a[i]=(a[i-1]+1)% m \n",
    "    print(*a) \n",
    "  \n",
    "# Driver code \n",
    "n, m = 6, 7\n",
    "a =[5, -1, -1, 1, 2, 3] \n",
    "construct(n, m, a) "
   ]
  },
  {
   "cell_type": "code",
   "execution_count": 41,
   "metadata": {},
   "outputs": [
    {
     "name": "stdout",
     "output_type": "stream",
     "text": [
      "True\n"
     ]
    }
   ],
   "source": [
    "#Python Program to check if given array is Monotonic\n",
    "def isMonotonic(A): \n",
    "  \n",
    "    return (all(A[i] <= A[i + 1] for i in range(len(A) - 1)) or\n",
    "            all(A[i] >= A[i + 1] for i in range(len(A) - 1))) \n",
    "  \n",
    "# Driver program \n",
    "A = [6, 5, 4, 4] \n",
    "  \n",
    "# Print required result \n",
    "print(isMonotonic(A)) "
   ]
  },
  {
   "cell_type": "code",
   "execution_count": 43,
   "metadata": {},
   "outputs": [
    {
     "name": "stdout",
     "output_type": "stream",
     "text": [
      "[(1, 1), (2, 8), (5, 125), (6, 216)]\n"
     ]
    }
   ],
   "source": [
    "\n",
    "\n",
    "# Python program to create a list of tuples \n",
    "# from given list having number and \n",
    "# its cube in each tuple \n",
    "  \n",
    "# creating a list \n",
    "list1 = [1, 2, 5, 6] \n",
    "  \n",
    "# using list comprehension to iterate each \n",
    "# values in list and create a tuple as specified \n",
    "res = [(val, pow(val, 3)) for val in list1] \n",
    "  \n",
    "# print the result \n",
    "print(res) "
   ]
  },
  {
   "cell_type": "code",
   "execution_count": 44,
   "metadata": {},
   "outputs": [
    {
     "name": "stdout",
     "output_type": "stream",
     "text": [
      "[('Geeksforgeeks', 5), ('is', 10), ('a', 15), ('portal', 20), ('for', 24), ('Geeks', 28)]\n"
     ]
    }
   ],
   "source": [
    "# Python program to sort a list of tuples by the second Item \n",
    "  \n",
    "# Function to sort the list of tuples by its second item \n",
    "def Sort_Tuple(tup):  \n",
    "      \n",
    "    # getting length of list of tuples \n",
    "    lst = len(tup)  \n",
    "    for i in range(0, lst):  \n",
    "          \n",
    "        for j in range(0, lst-i-1):  \n",
    "            if (tup[j][1] > tup[j + 1][1]):  \n",
    "                temp = tup[j]  \n",
    "                tup[j]= tup[j + 1]  \n",
    "                tup[j + 1]= temp  \n",
    "    return tup  \n",
    "  \n",
    "# Driver Code  \n",
    "tup =[('for', 24), ('is', 10), ('Geeks', 28),  \n",
    "      ('Geeksforgeeks', 5), ('portal', 20), ('a', 15)]  \n",
    "        \n",
    "print(Sort_Tuple(tup))  "
   ]
  },
  {
   "cell_type": "code",
   "execution_count": 46,
   "metadata": {},
   "outputs": [
    {
     "name": "stdout",
     "output_type": "stream",
     "text": [
      "Enter the input rows5\n",
      "*\n",
      "**\n",
      "***\n",
      "****\n",
      "*****\n"
     ]
    }
   ],
   "source": [
    "# Python Program to Print Floyd's Triangle\n",
    "rows = int(input(\"Enter the input rows\"))\n",
    "for i in range(1,rows+1):\n",
    "    for j in range(1,i+1):\n",
    "        print(\"*\",end=\"\")\n",
    "    print()    \n",
    "# i is for rows and j is for star"
   ]
  },
  {
   "cell_type": "code",
   "execution_count": 50,
   "metadata": {},
   "outputs": [
    {
     "name": "stdout",
     "output_type": "stream",
     "text": [
      "Enter the input rows7\n",
      "*\n",
      "***\n",
      "*****\n",
      "*******\n",
      "*********\n",
      "***********\n",
      "*************\n"
     ]
    }
   ],
   "source": [
    "rows = int(input(\"Enter the input rows\"))\n",
    "k = 1\n",
    "for i in range (1,rows+1):\n",
    "    for j in range (1,k+1):\n",
    "        print(\"*\",end=\"\")\n",
    "    k=k+2\n",
    "    print()    "
   ]
  },
  {
   "cell_type": "code",
   "execution_count": 59,
   "metadata": {},
   "outputs": [
    {
     "name": "stdout",
     "output_type": "stream",
     "text": [
      "Enter the input rows4\n",
      "   * \n",
      "  * * \n",
      " * * * \n",
      "* * * * \n"
     ]
    }
   ],
   "source": [
    "rows = int(input(\"Enter the input rows\")) #rows = might be 4 , 5...\n",
    "for  i in range(0,rows):\n",
    "     for j in range(0,rows-i-1):    # making space\n",
    "        print(end=\" \")\n",
    "     for j in range(0,i+1):         # making star\n",
    "        print(\"*\",end = \" \")\n",
    "     print()    "
   ]
  },
  {
   "cell_type": "code",
   "execution_count": 62,
   "metadata": {},
   "outputs": [
    {
     "name": "stdout",
     "output_type": "stream",
     "text": [
      "Enter the input rows4\n",
      "* * * * \n",
      " * * * \n",
      "  * * \n",
      "   * \n"
     ]
    }
   ],
   "source": [
    "rows = int(input(\"Enter the input rows\"))\n",
    "for  i in range(rows,0,-1):\n",
    "     for j in range(0,rows-i): #for space in col\n",
    "        print(end=\" \")\n",
    "     for j in range(0,i):      #for star in col\n",
    "        print(\"*\",end = \" \")\n",
    "     print()    "
   ]
  },
  {
   "cell_type": "code",
   "execution_count": 64,
   "metadata": {},
   "outputs": [
    {
     "name": "stdout",
     "output_type": "stream",
     "text": [
      "Enter the input rows4\n",
      "* * * * \n",
      "* * * \n",
      "* * \n",
      "* \n"
     ]
    }
   ],
   "source": [
    "rows = int(input(\"Enter the input rows\"))\n",
    "for i in range (rows,0,-1):\n",
    "    for j in range(0,i):\n",
    "        print(\"*\",end = \" \")\n",
    "    print()\n",
    "    \n"
   ]
  },
  {
   "cell_type": "code",
   "execution_count": 65,
   "metadata": {},
   "outputs": [
    {
     "name": "stdout",
     "output_type": "stream",
     "text": [
      " *** \n",
      "*   *\n",
      "*   *\n",
      "*****\n",
      "*   *\n",
      "*   *\n",
      "*   *\n"
     ]
    }
   ],
   "source": [
    "#print alphbet A using star\n",
    "for rows in range (7):\n",
    "    for col in range (5):\n",
    "        if ((col == 0 or col ==4) and rows !=0) or ((rows == 0 or rows == 3) and (col>0 and col<4)):\n",
    "            print(\"*\",end=\"\")\n",
    "        else:\n",
    "            print(end=\" \")\n",
    "    print()      "
   ]
  },
  {
   "cell_type": "code",
   "execution_count": 67,
   "metadata": {},
   "outputs": [
    {
     "data": {
      "text/plain": [
       "[3.14, 8, 10, 15, 22.4]"
      ]
     },
     "execution_count": 67,
     "metadata": {},
     "output_type": "execute_result"
    }
   ],
   "source": [
    "L = [15, 22.4, 8, 10, 3.14] # Ascending order\n",
    "L.sort()\n",
    "L"
   ]
  },
  {
   "cell_type": "code",
   "execution_count": 68,
   "metadata": {},
   "outputs": [
    {
     "data": {
      "text/plain": [
       "[22.4, 15, 10, 8, 3.14]"
      ]
     },
     "execution_count": 68,
     "metadata": {},
     "output_type": "execute_result"
    }
   ],
   "source": [
    "L = [15, 22.4, 8, 10, 3.14] #Descending order\n",
    "L.sort(reverse = True)\n",
    "L"
   ]
  },
  {
   "cell_type": "code",
   "execution_count": 7,
   "metadata": {},
   "outputs": [
    {
     "name": "stdout",
     "output_type": "stream",
     "text": [
      "Enter a number: 5\n",
      "5 is a prime number\n"
     ]
    }
   ],
   "source": [
    "#my prime no\n",
    "num = int(input(\"Enter a number: \"))  \n",
    "  \n",
    "if num > 1:  \n",
    "    for i in range(2,num):  \n",
    "        if (num % i) == 0:  \n",
    "            print(num,\"is not a prime number\")  \n",
    "            print(i,\"times\",num//i,\"is\",num)  \n",
    "            break  \n",
    "    else:  \n",
    "        print(num,\"is a prime number\")  \n",
    "         \n",
    "else:  \n",
    "    print(num,\"is not a prime number\")  "
   ]
  },
  {
   "cell_type": "code",
   "execution_count": 8,
   "metadata": {},
   "outputs": [
    {
     "name": "stdout",
     "output_type": "stream",
     "text": [
      "Enter a number: 123\n",
      "123 is not an Armstrong number\n"
     ]
    }
   ],
   "source": [
    "#check for armstrong num\n",
    "num = int(input(\"Enter a number: \"))  \n",
    "sum = 0  \n",
    "temp = num  \n",
    "  \n",
    "while temp > 0:  \n",
    "    digit = temp % 10  #for remainder\n",
    "    sum += digit ** 3  #cube of remainder\n",
    "    temp //= 10         #truncate the 3rd  digit from temp\n",
    "  \n",
    " if num == sum:  \n",
    "    print(num,\"is an Armstrong number\")  \n",
    "else:  \n",
    "    print(num,\"is not an Armstrong number\")  "
   ]
  },
  {
   "cell_type": "code",
   "execution_count": 10,
   "metadata": {},
   "outputs": [
    {
     "name": "stdout",
     "output_type": "stream",
     "text": [
      "How many terms? 5\n",
      "Fibonacci sequence:\n",
      "0\n",
      "1\n",
      "1\n",
      "2\n",
      "3\n"
     ]
    }
   ],
   "source": [
    "def recur_fibo(n):  \n",
    "    if n <= 1:  \n",
    "        return n  \n",
    "    else:  \n",
    "        return(recur_fibo(n-1) + recur_fibo(n-2))  \n",
    "# take input from the user  \n",
    "nterms = int(input(\"How many terms? \")) \n",
    "# check if the number of terms is valid  \n",
    "if nterms <= 0:  \n",
    "    print(\"Plese enter a positive integer\")  \n",
    "else:  \n",
    "    print(\"Fibonacci sequence:\")  \n",
    "    for i in range(nterms):  \n",
    "        print(recur_fibo(i))  "
   ]
  },
  {
   "cell_type": "code",
   "execution_count": 11,
   "metadata": {},
   "outputs": [
    {
     "name": "stdout",
     "output_type": "stream",
     "text": [
      "Enter a year: 2000\n",
      "2000 is a leap year\n"
     ]
    }
   ],
   "source": [
    "#Check Leap Year\n",
    "year = int(input(\"Enter a year: \"))  \n",
    "if (year % 4) == 0:  \n",
    "    if (year % 100) == 0:  \n",
    "        if (year % 400) == 0:  \n",
    "           print(\"{0} is a leap year\".format(year))  \n",
    "        else:  \n",
    "            print(\"{0} is not a leap year\".format(year))  \n",
    "    else:  \n",
    "        print(\"{0} is a leap year\".format(year))  \n",
    "else:  \n",
    "    print(\"{0} is not a leap year\".format(year))  "
   ]
  },
  {
   "cell_type": "code",
   "execution_count": 15,
   "metadata": {},
   "outputs": [
    {
     "name": "stdout",
     "output_type": "stream",
     "text": [
      "Input some integers to calculate their sum and average. Input 0 to exit.\n",
      "4\n",
      "7\n",
      "5\n",
      "4\n",
      "5\n",
      "6\n",
      "6\n",
      "5\n",
      "0\n",
      "Average and Sum of the above numbers are:  5.25 42.0\n"
     ]
    }
   ],
   "source": [
    "print(\"Input some integers to calculate their sum and average. Input 0 to exit.\")\n",
    "\n",
    "count = 0\n",
    "sum = 0.0\n",
    "number = 1\n",
    "\n",
    "while number != 0:\n",
    "    number = int(input(\"\"))\n",
    "    sum = sum + number\n",
    "    count += 1\n",
    "\n",
    "if count == 0:\n",
    "    print(\"Input some numbers\")\n",
    "else:\n",
    "    print(\"Average and Sum of the above numbers are: \", sum / (count-1), sum)\n"
   ]
  },
  {
   "cell_type": "code",
   "execution_count": null,
   "metadata": {},
   "outputs": [],
   "source": []
  }
 ],
 "metadata": {
  "kernelspec": {
   "display_name": "Python 3",
   "language": "python",
   "name": "python3"
  },
  "language_info": {
   "codemirror_mode": {
    "name": "ipython",
    "version": 3
   },
   "file_extension": ".py",
   "mimetype": "text/x-python",
   "name": "python",
   "nbconvert_exporter": "python",
   "pygments_lexer": "ipython3",
   "version": "3.7.1"
  }
 },
 "nbformat": 4,
 "nbformat_minor": 2
}
